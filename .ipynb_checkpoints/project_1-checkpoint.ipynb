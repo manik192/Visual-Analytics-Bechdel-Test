{
 "cells": [
  {
   "cell_type": "code",
   "execution_count": 42,
   "id": "8fe81b47-1b3a-44c2-95a2-997dcde5393e",
   "metadata": {},
   "outputs": [],
   "source": [
    "import pandas as pd, numpy as np, math, json\n",
    "import plotly.express as px\n",
    "import plotly.graph_objects as go\n",
    "from pathlib import Path\n",
    "\n",
    "# ---- Load your combined dataset ----\n",
    "DF_PATH = \"bechdel_enriched_with_gender.csv\"   # change if needed\n",
    "df = pd.read_csv(DF_PATH)\n",
    "\n",
    "# ---- Robust Bechdel pass flag ----\n",
    "if \"bechdel_pass\" not in df.columns:\n",
    "    if \"binary\" in df.columns:\n",
    "        df[\"bechdel_pass\"] = df[\"binary\"].astype(str).str.upper().isin([\"PASS\",\"1\",\"TRUE\",\"YES\"]).astype(int)\n",
    "    elif \"clean_test\" in df.columns:\n",
    "        df[\"bechdel_pass\"] = df[\"clean_test\"].astype(str).str.upper().str.contains(\"PASS\").astype(int)\n",
    "    else:\n",
    "        df[\"bechdel_pass\"] = 0\n",
    "df[\"bechdel_pass\"] = pd.to_numeric(df[\"bechdel_pass\"], errors=\"coerce\").fillna(0).astype(int)\n",
    "\n",
    "# ---- Year → Decade (robust) ----\n",
    "def coerce_year(s):\n",
    "    y = pd.to_numeric(s, errors=\"coerce\")\n",
    "    return y.where((y>=1888)&(y<=2100))\n",
    "year = None\n",
    "for col in [\"year\",\"year_int\",\"release_year\"]:\n",
    "    if col in df.columns:\n",
    "        year = coerce_year(df[col]) if year is None else year.fillna(coerce_year(df[col]))\n",
    "if year is None and \"release_date\" in df.columns:\n",
    "    y2 = pd.to_datetime(df[\"release_date\"], errors=\"coerce\").dt.year\n",
    "    year = y2.where((y2>=1888)&(y2<=2100))\n",
    "df[\"decade\"] = ((year//10)*10).astype(\"Int64\")\n",
    "\n",
    "# ---- ROI fallback if missing ----\n",
    "if \"roi\" not in df.columns or df[\"roi\"].notna().sum()==0:\n",
    "    gross_best = np.where(df.get(\"intgross\").notna(), df.get(\"intgross\"), df.get(\"domgross\"))\n",
    "    df[\"roi\"] = np.where((df.get(\"budget\",0)>0)&pd.notna(gross_best), gross_best/df.get(\"budget\"), np.nan)\n",
    "\n",
    "# ---- Primary genre (from 'genre' if available) ----\n",
    "def primary_genre(s):\n",
    "    if pd.isna(s): return np.nan\n",
    "    parts = [p.strip() for p in str(s).replace(\"|\",\",\").split(\",\") if p.strip()]\n",
    "    return parts[0] if parts else np.nan\n",
    "df[\"primary_genre\"] = df[\"genre\"].apply(primary_genre) if \"genre\" in df.columns else np.nan\n",
    "\n",
    "# ---- Ensure nominations/wins numeric ----\n",
    "for c in [\"osc_nominations\",\"osc_wins\",\"imdb_rating\",\"imdb_votes\",\"budget\",\"runtime_minutes\",\n",
    "          \"female_cast_ratio\",\"female_crew_ratio\"]:\n",
    "    if c in df.columns:\n",
    "        df[c] = pd.to_numeric(df[c], errors=\"coerce\")\n",
    "\n",
    "# ---- Helper: write WordPress snippet (no Plotly.js, fixed height, NaN-safe) ----\n",
    "def write_wp_snippet(fig, out_path, div_id=\"viz\"):\n",
    "    def clean(obj):\n",
    "        if isinstance(obj, float) and (math.isnan(obj) or math.isinf(obj)): return None\n",
    "        if isinstance(obj, list):  return [clean(v) for v in obj]\n",
    "        if isinstance(obj, dict):  return {k: clean(v) for k,v in obj.items()}\n",
    "        return obj\n",
    "    d = clean(fig.to_dict())\n",
    "    html = f\"\"\"\n",
    "<div id=\"{div_id}\" style=\"width:100%;height:520px;\"></div>\n",
    "<script>\n",
    "(function(){{\n",
    "  var data = {json.dumps(d[\"data\"], separators=(',',':'))};\n",
    "  var layout = {json.dumps(d[\"layout\"], separators=(',',':'))};\n",
    "  var config = {{responsive:true}};\n",
    "  function draw() {{\n",
    "    if(!window.Plotly) return setTimeout(draw,50);\n",
    "    Plotly.newPlot(\"{div_id}\", data, layout, config);\n",
    "  }}\n",
    "  if(document.readyState===\"loading\") document.addEventListener(\"DOMContentLoaded\", draw); else draw();\n",
    "}})();\n",
    "</script>\n",
    "\"\"\".strip()\n",
    "    Path(out_path).write_text(html, encoding=\"utf-8\")\n",
    "    print(\"Wrote:\", out_path)\n"
   ]
  },
  {
   "cell_type": "code",
   "execution_count": 60,
   "id": "62b7b27f-591c-4619-80fb-44b4a908c940",
   "metadata": {},
   "outputs": [
    {
     "name": "stdout",
     "output_type": "stream",
     "text": [
      "Wrote: wp_snippets/11_line_pass_and_oscar_plain.html\n"
     ]
    }
   ],
   "source": [
    "import pandas as pd, numpy as np, math, json\n",
    "import plotly.graph_objects as go\n",
    "from pathlib import Path\n",
    "\n",
    "# --- 1) Compute the two series (same logic you had) ---\n",
    "d = df.copy()\n",
    "d[\"bechdel_pass\"] = (\n",
    "    d.get(\"bechdel_pass\", np.nan)\n",
    "    if \"bechdel_pass\" in d.columns\n",
    "    else d.get(\"binary\",\"\").astype(str).str.upper().isin([\"PASS\",\"1\",\"TRUE\",\"YES\"]).astype(int)\n",
    ")\n",
    "\n",
    "# robust decade\n",
    "def year_to_decade(y):\n",
    "    try:\n",
    "        y = int(y)\n",
    "        if 1888 <= y <= 2100:\n",
    "            return (y//10)*10\n",
    "    except Exception:\n",
    "        return np.nan\n",
    "d[\"decade\"] = d.get(\"decade\", np.nan)\n",
    "if d[\"decade\"].isna().all():\n",
    "    # build from year if needed\n",
    "    yr = pd.to_numeric(d.get(\"year\", d.get(\"year_int\", np.nan)), errors=\"coerce\")\n",
    "    d[\"decade\"] = yr.apply(year_to_decade)\n",
    "\n",
    "dd = d.loc[d[\"decade\"].notna()].copy()\n",
    "grp = dd.groupby(\"decade\")\n",
    "pass_rate = (grp[\"bechdel_pass\"].mean()*100).rename(\"pass_rate\")\n",
    "\n",
    "if \"osc_nominations\" in dd.columns:\n",
    "    nom_rate_among_pass = (\n",
    "        dd[dd[\"bechdel_pass\"]==1]\n",
    "        .assign(nom=(dd.loc[dd[\"bechdel_pass\"]==1, \"osc_nominations\"].fillna(0)>0).astype(int))\n",
    "        .groupby(\"decade\")[\"nom\"].mean()*100\n",
    "    ).rename(\"nom_rate_passers\")\n",
    "else:\n",
    "    nom_rate_among_pass = pass_rate*0\n",
    "\n",
    "line_df = pd.concat([pass_rate, nom_rate_among_pass], axis=1).reset_index()\n",
    "line_df[\"decade\"] = line_df[\"decade\"].astype(int)\n",
    "\n",
    "# --- 2) Build figure with plain Python lists (NO bdata) ---\n",
    "x_vals = line_df[\"decade\"].astype(int).tolist()\n",
    "y_pass = line_df[\"pass_rate\"].astype(float).round(2).tolist()\n",
    "y_nom  = line_df[\"nom_rate_passers\"].astype(float).round(2).tolist()\n",
    "\n",
    "fig = go.Figure()\n",
    "fig.add_scatter(x=x_vals, y=y_pass, mode=\"lines+markers\", name=\"% Bechdel Pass\")\n",
    "fig.add_scatter(x=x_vals, y=y_nom,  mode=\"lines+markers\", name=\"% of Passers with ≥1 Oscar Nom\")\n",
    "fig.update_layout(\n",
    "    title=\"Progress & Prestige: Bechdel Pass vs. Oscar-Nominated Share (by Decade)\",\n",
    "    xaxis_title=\"Decade\", yaxis_title=\"Percent\",\n",
    "    height=520, margin=dict(l=60,r=20,t=70,b=40)\n",
    ")\n",
    "\n",
    "# --- 3) Export a WordPress-safe snippet (no NaN/Inf, no bdata) ---\n",
    "def write_wp_snippet(fig, out_path, div_id=\"line-pass-oscar\"):\n",
    "    def clean(obj):\n",
    "        if isinstance(obj, float) and (math.isnan(obj) or math.isinf(obj)): return None\n",
    "        if isinstance(obj, list):  return [clean(v) for v in obj]\n",
    "        if isinstance(obj, dict):  return {k: clean(v) for k,v in obj.items()}\n",
    "        return obj\n",
    "    dct = clean(fig.to_dict())\n",
    "    html = f\"\"\"\n",
    "<div id=\"{div_id}\" style=\"width:100%;height:520px;\"></div>\n",
    "<script>\n",
    "(function(){{\n",
    "  var data = {json.dumps(dct[\"data\"], separators=(',',':'))};\n",
    "  var layout = {json.dumps(dct[\"layout\"], separators=(',',':'))};\n",
    "  var config = {{responsive:true}};\n",
    "  function draw() {{\n",
    "    if(!window.Plotly) return setTimeout(draw,50);\n",
    "    Plotly.newPlot(\"{div_id}\", data, layout, config);\n",
    "  }}\n",
    "  if(document.readyState===\"loading\") document.addEventListener(\"DOMContentLoaded\", draw); else draw();\n",
    "}})();\n",
    "</script>\n",
    "\"\"\".strip()\n",
    "    Path(out_path).parent.mkdir(parents=True, exist_ok=True)\n",
    "    Path(out_path).write_text(html, encoding=\"utf-8\")\n",
    "    print(\"Wrote:\", out_path)\n",
    "\n",
    "write_wp_snippet(fig, \"wp_snippets/11_line_pass_and_oscar_plain.html\", \"line-pass-oscar\")\n"
   ]
  },
  {
   "cell_type": "code",
   "execution_count": 64,
   "id": "757165f8-3d3c-459d-95ad-458036fc4c93",
   "metadata": {},
   "outputs": [
    {
     "name": "stdout",
     "output_type": "stream",
     "text": [
      "Wrote: wp_snippets/22_corr_heatmap_with_numbers.html\n"
     ]
    }
   ],
   "source": [
    "import pandas as pd, numpy as np, math, json\n",
    "import plotly.graph_objects as go\n",
    "from pathlib import Path\n",
    "\n",
    "# --- build correlation matrix ---\n",
    "numeric_cols = [\n",
    "    \"roi\",\"imdb_rating\",\"imdb_votes\",\"runtime_minutes\",\n",
    "    \"female_cast_ratio\",\"female_crew_ratio\",\n",
    "    \"cast_count\",\"crew_count\",\n",
    "    \"osc_nominations\",\"budget\",\"domgross\",\"intgross\"\n",
    "]\n",
    "present = [c for c in numeric_cols if c in df.columns]\n",
    "for c in present:\n",
    "    df[c] = pd.to_numeric(df[c], errors=\"coerce\")\n",
    "\n",
    "corr = df[present].corr().round(2)\n",
    "Z = corr.values\n",
    "X = corr.columns.tolist()\n",
    "Y = corr.index.tolist()\n",
    "\n",
    "# --- base heatmap ---\n",
    "fig2 = go.Figure(data=go.Heatmap(\n",
    "    z=Z.tolist(), x=X, y=Y,\n",
    "    zmin=-1, zmax=1, zmid=0,\n",
    "    colorscale=\"RdBu\", reversescale=True,\n",
    "    hovertemplate=\"x: %{x}<br>y: %{y}<br>r: %{z:.2f}<extra></extra>\"\n",
    "))\n",
    "\n",
    "# --- overlay annotations for each cell (numbers) ---\n",
    "ann = []\n",
    "for i, y in enumerate(Y):\n",
    "    for j, x in enumerate(X):\n",
    "        val = Z[i, j]\n",
    "        if np.isnan(val):\n",
    "            text = \"\"\n",
    "        else:\n",
    "            text = f\"{val:.2f}\"\n",
    "        # choose white text on dark, black on light\n",
    "        font_color = \"white\" if abs(val) > 0.45 else \"black\"\n",
    "        ann.append(dict(\n",
    "            x=x, y=y, text=text, showarrow=False,\n",
    "            font=dict(color=font_color, size=12)\n",
    "        ))\n",
    "\n",
    "fig2.update_layout(\n",
    "    title=\"Correlation Heatmap: Representation, Money & Recognition\",\n",
    "    xaxis=dict(side=\"top\", tickangle=45, automargin=True),\n",
    "    yaxis=dict(autorange=\"reversed\", automargin=True),\n",
    "    annotations=ann,\n",
    "    height=520,\n",
    "    margin=dict(l=80, r=40, t=80, b=80)\n",
    ")\n",
    "\n",
    "# --- export WP-safe snippet (plain arrays; no binary) ---\n",
    "def write_wp_snippet_plain(fig, out_path, div_id=\"corr-heatmap\"):\n",
    "    def clean(o):\n",
    "        if isinstance(o, np.ndarray):   return [clean(v) for v in o.tolist()]\n",
    "        if isinstance(o, (np.integer,)):   return int(o)\n",
    "        if isinstance(o, (np.floating,)):\n",
    "            v = float(o);  return None if (math.isnan(v) or math.isinf(v)) else v\n",
    "        if isinstance(o, (np.bool_,)):  return bool(o)\n",
    "        if isinstance(o, float):        return None if (math.isnan(o) or math.isinf(o)) else o\n",
    "        if isinstance(o, list):         return [clean(v) for v in o]\n",
    "        if isinstance(o, dict):         return {k: clean(v) for k,v in o.items()}\n",
    "        return o\n",
    "    dct = clean(fig.to_dict())\n",
    "    html = f\"\"\"\n",
    "<div id=\"{div_id}\" style=\"width:100%;height:520px;\"></div>\n",
    "<script>\n",
    "(function(){{\n",
    "  var data = {json.dumps(dct[\"data\"], separators=(',',':'))};\n",
    "  var layout = {json.dumps(dct[\"layout\"], separators=(',',':'))};\n",
    "  var config = {{responsive:true}};\n",
    "  function draw() {{\n",
    "    if (!window.Plotly) return setTimeout(draw, 50);\n",
    "    Plotly.newPlot(\"{div_id}\", data, layout, config);\n",
    "  }}\n",
    "  if (document.readyState === \"loading\") document.addEventListener(\"DOMContentLoaded\", draw);\n",
    "  else draw();\n",
    "}})();\n",
    "</script>\n",
    "\"\"\".strip()\n",
    "    Path(out_path).parent.mkdir(parents=True, exist_ok=True)\n",
    "    Path(out_path).write_text(html, encoding=\"utf-8\")\n",
    "    print(\"Wrote:\", out_path)\n",
    "\n",
    "write_wp_snippet_plain(fig2, \"wp_snippets/22_corr_heatmap_with_numbers.html\", \"corr-heatmap\")\n"
   ]
  },
  {
   "cell_type": "code",
   "execution_count": 56,
   "id": "97a2a455-e7f5-4652-9a2e-74b98f6b32ae",
   "metadata": {},
   "outputs": [
    {
     "name": "stdout",
     "output_type": "stream",
     "text": [
      "Unique genres: 21\n",
      "Sample genres: ['Comedy' 'Action' 'Crime' 'Sci-Fi' 'Biography' 'Drama' 'History'\n",
      " 'Thriller' 'Sport' 'Fantasy' 'Romance' 'Adventure' 'Horror' 'Animation'\n",
      " 'Family' 'Mystery' 'War' 'Western' 'nan' 'Musical']\n",
      "genre_split\n",
      "Drama        845\n",
      "Comedy       678\n",
      "Action       531\n",
      "Adventure    437\n",
      "Romance      296\n",
      "Thriller     287\n",
      "Crime        280\n",
      "Sci-Fi       204\n",
      "Fantasy      201\n",
      "Horror       196\n",
      "Name: count, dtype: int64\n"
     ]
    }
   ],
   "source": [
    "# Make a copy\n",
    "d = df.copy()\n",
    "\n",
    "# Ensure genre is string\n",
    "d[\"genre\"] = d[\"genre\"].astype(str)\n",
    "\n",
    "# Split by comma, strip spaces, then explode\n",
    "d[\"genre_split\"] = d[\"genre\"].str.split(\",\")\n",
    "d = d.explode(\"genre_split\")\n",
    "d[\"genre_split\"] = d[\"genre_split\"].str.strip()\n",
    "\n",
    "# Check unique genres now\n",
    "print(\"Unique genres:\", d[\"genre_split\"].nunique())\n",
    "print(\"Sample genres:\", d[\"genre_split\"].unique()[:20])\n",
    "\n",
    "# Count films per genre\n",
    "print(d[\"genre_split\"].value_counts().head(10))\n"
   ]
  },
  {
   "cell_type": "code",
   "execution_count": 57,
   "id": "7e26097d-5047-4b6d-9729-72152d5e8461",
   "metadata": {},
   "outputs": [
    {
     "data": {
      "application/vnd.plotly.v1+json": {
       "config": {
        "plotlyServerURL": "https://plot.ly"
       },
       "data": [
        {
         "hovertemplate": "Genre=%{x}<br>Bias (pp)=%{y}<br>Median Female Cast Ratio=%{marker.color}<extra></extra>",
         "legendgroup": "",
         "marker": {
          "color": {
           "bdata": "EBERERERwT81lNdQXkPZP1NVVVVVVcU/HMdxHMdxvD+amZmZmZnJPxQ7sRM7sdM/lXsaYbmnwT+HxvrQWB/KP6mqqqqqqso/hA8++OCDzz8QERERERHRPzMzMzMzM9M/m+d5nud5zj8lr6G8hvLKPzeO4ziO48g/djGoCLfUzD9VVVVVVVXVPxaGYRiGYcg/U1VVVVVVxT9yHMdxHMfRPwAAAAAAANA/",
           "dtype": "f8"
          },
          "coloraxis": "coloraxis",
          "pattern": {
           "shape": ""
          }
         },
         "name": "",
         "orientation": "v",
         "showlegend": false,
         "textposition": "auto",
         "type": "bar",
         "x": [
          "Western",
          "Musical",
          "nan",
          "War",
          "Sport",
          "Music",
          "History",
          "Biography",
          "Animation",
          "Family",
          "Mystery",
          "Horror",
          "Fantasy",
          "Sci-Fi",
          "Crime",
          "Thriller",
          "Romance",
          "Adventure",
          "Action",
          "Comedy",
          "Drama"
         ],
         "xaxis": "x",
         "y": {
          "bdata": "sxzWGUp8y7+zHNYZSnzbv1XRIJsa3Ny/QCzLkJbd4b80O7tST+3jv/eFaxzrO+6/ujPD8XLl8r/C5wi+r/P/v4WVYJM3nQTArkKzsyv1BMDbySg6PtQLwMYk0y+61RDAOX06WKtDEcAYf3hwooURwBxZm9bADBjAIwgsD6ymGMC/DeZXkWwZwMsypGV3xCLAaKVv4evNJsA0016zER4twPFYDusMJTLA",
          "dtype": "f8"
         },
         "yaxis": "y"
        }
       ],
       "layout": {
        "barmode": "relative",
        "coloraxis": {
         "colorbar": {
          "title": {
           "text": "Median Female Cast Ratio"
          }
         },
         "colorscale": [
          [
           0,
           "rgb(165,0,38)"
          ],
          [
           0.1,
           "rgb(215,48,39)"
          ],
          [
           0.2,
           "rgb(244,109,67)"
          ],
          [
           0.3,
           "rgb(253,174,97)"
          ],
          [
           0.4,
           "rgb(254,224,144)"
          ],
          [
           0.5,
           "rgb(255,255,191)"
          ],
          [
           0.6,
           "rgb(224,243,248)"
          ],
          [
           0.7,
           "rgb(171,217,233)"
          ],
          [
           0.8,
           "rgb(116,173,209)"
          ],
          [
           0.9,
           "rgb(69,117,180)"
          ],
          [
           1,
           "rgb(49,54,149)"
          ]
         ]
        },
        "height": 520,
        "legend": {
         "tracegroupgap": 0
        },
        "margin": {
         "b": 80,
         "l": 60,
         "r": 20,
         "t": 70
        },
        "shapes": [
         {
          "line": {
           "color": "gray",
           "width": 1
          },
          "type": "line",
          "x0": 0,
          "x1": 1,
          "xref": "x domain",
          "y0": 0,
          "y1": 0,
          "yref": "y"
         }
        ],
        "template": {
         "data": {
          "bar": [
           {
            "error_x": {
             "color": "#2a3f5f"
            },
            "error_y": {
             "color": "#2a3f5f"
            },
            "marker": {
             "line": {
              "color": "#E5ECF6",
              "width": 0.5
             },
             "pattern": {
              "fillmode": "overlay",
              "size": 10,
              "solidity": 0.2
             }
            },
            "type": "bar"
           }
          ],
          "barpolar": [
           {
            "marker": {
             "line": {
              "color": "#E5ECF6",
              "width": 0.5
             },
             "pattern": {
              "fillmode": "overlay",
              "size": 10,
              "solidity": 0.2
             }
            },
            "type": "barpolar"
           }
          ],
          "carpet": [
           {
            "aaxis": {
             "endlinecolor": "#2a3f5f",
             "gridcolor": "white",
             "linecolor": "white",
             "minorgridcolor": "white",
             "startlinecolor": "#2a3f5f"
            },
            "baxis": {
             "endlinecolor": "#2a3f5f",
             "gridcolor": "white",
             "linecolor": "white",
             "minorgridcolor": "white",
             "startlinecolor": "#2a3f5f"
            },
            "type": "carpet"
           }
          ],
          "choropleth": [
           {
            "colorbar": {
             "outlinewidth": 0,
             "ticks": ""
            },
            "type": "choropleth"
           }
          ],
          "contour": [
           {
            "colorbar": {
             "outlinewidth": 0,
             "ticks": ""
            },
            "colorscale": [
             [
              0,
              "#0d0887"
             ],
             [
              0.1111111111111111,
              "#46039f"
             ],
             [
              0.2222222222222222,
              "#7201a8"
             ],
             [
              0.3333333333333333,
              "#9c179e"
             ],
             [
              0.4444444444444444,
              "#bd3786"
             ],
             [
              0.5555555555555556,
              "#d8576b"
             ],
             [
              0.6666666666666666,
              "#ed7953"
             ],
             [
              0.7777777777777778,
              "#fb9f3a"
             ],
             [
              0.8888888888888888,
              "#fdca26"
             ],
             [
              1,
              "#f0f921"
             ]
            ],
            "type": "contour"
           }
          ],
          "contourcarpet": [
           {
            "colorbar": {
             "outlinewidth": 0,
             "ticks": ""
            },
            "type": "contourcarpet"
           }
          ],
          "heatmap": [
           {
            "colorbar": {
             "outlinewidth": 0,
             "ticks": ""
            },
            "colorscale": [
             [
              0,
              "#0d0887"
             ],
             [
              0.1111111111111111,
              "#46039f"
             ],
             [
              0.2222222222222222,
              "#7201a8"
             ],
             [
              0.3333333333333333,
              "#9c179e"
             ],
             [
              0.4444444444444444,
              "#bd3786"
             ],
             [
              0.5555555555555556,
              "#d8576b"
             ],
             [
              0.6666666666666666,
              "#ed7953"
             ],
             [
              0.7777777777777778,
              "#fb9f3a"
             ],
             [
              0.8888888888888888,
              "#fdca26"
             ],
             [
              1,
              "#f0f921"
             ]
            ],
            "type": "heatmap"
           }
          ],
          "histogram": [
           {
            "marker": {
             "pattern": {
              "fillmode": "overlay",
              "size": 10,
              "solidity": 0.2
             }
            },
            "type": "histogram"
           }
          ],
          "histogram2d": [
           {
            "colorbar": {
             "outlinewidth": 0,
             "ticks": ""
            },
            "colorscale": [
             [
              0,
              "#0d0887"
             ],
             [
              0.1111111111111111,
              "#46039f"
             ],
             [
              0.2222222222222222,
              "#7201a8"
             ],
             [
              0.3333333333333333,
              "#9c179e"
             ],
             [
              0.4444444444444444,
              "#bd3786"
             ],
             [
              0.5555555555555556,
              "#d8576b"
             ],
             [
              0.6666666666666666,
              "#ed7953"
             ],
             [
              0.7777777777777778,
              "#fb9f3a"
             ],
             [
              0.8888888888888888,
              "#fdca26"
             ],
             [
              1,
              "#f0f921"
             ]
            ],
            "type": "histogram2d"
           }
          ],
          "histogram2dcontour": [
           {
            "colorbar": {
             "outlinewidth": 0,
             "ticks": ""
            },
            "colorscale": [
             [
              0,
              "#0d0887"
             ],
             [
              0.1111111111111111,
              "#46039f"
             ],
             [
              0.2222222222222222,
              "#7201a8"
             ],
             [
              0.3333333333333333,
              "#9c179e"
             ],
             [
              0.4444444444444444,
              "#bd3786"
             ],
             [
              0.5555555555555556,
              "#d8576b"
             ],
             [
              0.6666666666666666,
              "#ed7953"
             ],
             [
              0.7777777777777778,
              "#fb9f3a"
             ],
             [
              0.8888888888888888,
              "#fdca26"
             ],
             [
              1,
              "#f0f921"
             ]
            ],
            "type": "histogram2dcontour"
           }
          ],
          "mesh3d": [
           {
            "colorbar": {
             "outlinewidth": 0,
             "ticks": ""
            },
            "type": "mesh3d"
           }
          ],
          "parcoords": [
           {
            "line": {
             "colorbar": {
              "outlinewidth": 0,
              "ticks": ""
             }
            },
            "type": "parcoords"
           }
          ],
          "pie": [
           {
            "automargin": true,
            "type": "pie"
           }
          ],
          "scatter": [
           {
            "fillpattern": {
             "fillmode": "overlay",
             "size": 10,
             "solidity": 0.2
            },
            "type": "scatter"
           }
          ],
          "scatter3d": [
           {
            "line": {
             "colorbar": {
              "outlinewidth": 0,
              "ticks": ""
             }
            },
            "marker": {
             "colorbar": {
              "outlinewidth": 0,
              "ticks": ""
             }
            },
            "type": "scatter3d"
           }
          ],
          "scattercarpet": [
           {
            "marker": {
             "colorbar": {
              "outlinewidth": 0,
              "ticks": ""
             }
            },
            "type": "scattercarpet"
           }
          ],
          "scattergeo": [
           {
            "marker": {
             "colorbar": {
              "outlinewidth": 0,
              "ticks": ""
             }
            },
            "type": "scattergeo"
           }
          ],
          "scattergl": [
           {
            "marker": {
             "colorbar": {
              "outlinewidth": 0,
              "ticks": ""
             }
            },
            "type": "scattergl"
           }
          ],
          "scattermap": [
           {
            "marker": {
             "colorbar": {
              "outlinewidth": 0,
              "ticks": ""
             }
            },
            "type": "scattermap"
           }
          ],
          "scattermapbox": [
           {
            "marker": {
             "colorbar": {
              "outlinewidth": 0,
              "ticks": ""
             }
            },
            "type": "scattermapbox"
           }
          ],
          "scatterpolar": [
           {
            "marker": {
             "colorbar": {
              "outlinewidth": 0,
              "ticks": ""
             }
            },
            "type": "scatterpolar"
           }
          ],
          "scatterpolargl": [
           {
            "marker": {
             "colorbar": {
              "outlinewidth": 0,
              "ticks": ""
             }
            },
            "type": "scatterpolargl"
           }
          ],
          "scatterternary": [
           {
            "marker": {
             "colorbar": {
              "outlinewidth": 0,
              "ticks": ""
             }
            },
            "type": "scatterternary"
           }
          ],
          "surface": [
           {
            "colorbar": {
             "outlinewidth": 0,
             "ticks": ""
            },
            "colorscale": [
             [
              0,
              "#0d0887"
             ],
             [
              0.1111111111111111,
              "#46039f"
             ],
             [
              0.2222222222222222,
              "#7201a8"
             ],
             [
              0.3333333333333333,
              "#9c179e"
             ],
             [
              0.4444444444444444,
              "#bd3786"
             ],
             [
              0.5555555555555556,
              "#d8576b"
             ],
             [
              0.6666666666666666,
              "#ed7953"
             ],
             [
              0.7777777777777778,
              "#fb9f3a"
             ],
             [
              0.8888888888888888,
              "#fdca26"
             ],
             [
              1,
              "#f0f921"
             ]
            ],
            "type": "surface"
           }
          ],
          "table": [
           {
            "cells": {
             "fill": {
              "color": "#EBF0F8"
             },
             "line": {
              "color": "white"
             }
            },
            "header": {
             "fill": {
              "color": "#C8D4E3"
             },
             "line": {
              "color": "white"
             }
            },
            "type": "table"
           }
          ]
         },
         "layout": {
          "annotationdefaults": {
           "arrowcolor": "#2a3f5f",
           "arrowhead": 0,
           "arrowwidth": 1
          },
          "autotypenumbers": "strict",
          "coloraxis": {
           "colorbar": {
            "outlinewidth": 0,
            "ticks": ""
           }
          },
          "colorscale": {
           "diverging": [
            [
             0,
             "#8e0152"
            ],
            [
             0.1,
             "#c51b7d"
            ],
            [
             0.2,
             "#de77ae"
            ],
            [
             0.3,
             "#f1b6da"
            ],
            [
             0.4,
             "#fde0ef"
            ],
            [
             0.5,
             "#f7f7f7"
            ],
            [
             0.6,
             "#e6f5d0"
            ],
            [
             0.7,
             "#b8e186"
            ],
            [
             0.8,
             "#7fbc41"
            ],
            [
             0.9,
             "#4d9221"
            ],
            [
             1,
             "#276419"
            ]
           ],
           "sequential": [
            [
             0,
             "#0d0887"
            ],
            [
             0.1111111111111111,
             "#46039f"
            ],
            [
             0.2222222222222222,
             "#7201a8"
            ],
            [
             0.3333333333333333,
             "#9c179e"
            ],
            [
             0.4444444444444444,
             "#bd3786"
            ],
            [
             0.5555555555555556,
             "#d8576b"
            ],
            [
             0.6666666666666666,
             "#ed7953"
            ],
            [
             0.7777777777777778,
             "#fb9f3a"
            ],
            [
             0.8888888888888888,
             "#fdca26"
            ],
            [
             1,
             "#f0f921"
            ]
           ],
           "sequentialminus": [
            [
             0,
             "#0d0887"
            ],
            [
             0.1111111111111111,
             "#46039f"
            ],
            [
             0.2222222222222222,
             "#7201a8"
            ],
            [
             0.3333333333333333,
             "#9c179e"
            ],
            [
             0.4444444444444444,
             "#bd3786"
            ],
            [
             0.5555555555555556,
             "#d8576b"
            ],
            [
             0.6666666666666666,
             "#ed7953"
            ],
            [
             0.7777777777777778,
             "#fb9f3a"
            ],
            [
             0.8888888888888888,
             "#fdca26"
            ],
            [
             1,
             "#f0f921"
            ]
           ]
          },
          "colorway": [
           "#636efa",
           "#EF553B",
           "#00cc96",
           "#ab63fa",
           "#FFA15A",
           "#19d3f3",
           "#FF6692",
           "#B6E880",
           "#FF97FF",
           "#FECB52"
          ],
          "font": {
           "color": "#2a3f5f"
          },
          "geo": {
           "bgcolor": "white",
           "lakecolor": "white",
           "landcolor": "#E5ECF6",
           "showlakes": true,
           "showland": true,
           "subunitcolor": "white"
          },
          "hoverlabel": {
           "align": "left"
          },
          "hovermode": "closest",
          "mapbox": {
           "style": "light"
          },
          "paper_bgcolor": "white",
          "plot_bgcolor": "#E5ECF6",
          "polar": {
           "angularaxis": {
            "gridcolor": "white",
            "linecolor": "white",
            "ticks": ""
           },
           "bgcolor": "#E5ECF6",
           "radialaxis": {
            "gridcolor": "white",
            "linecolor": "white",
            "ticks": ""
           }
          },
          "scene": {
           "xaxis": {
            "backgroundcolor": "#E5ECF6",
            "gridcolor": "white",
            "gridwidth": 2,
            "linecolor": "white",
            "showbackground": true,
            "ticks": "",
            "zerolinecolor": "white"
           },
           "yaxis": {
            "backgroundcolor": "#E5ECF6",
            "gridcolor": "white",
            "gridwidth": 2,
            "linecolor": "white",
            "showbackground": true,
            "ticks": "",
            "zerolinecolor": "white"
           },
           "zaxis": {
            "backgroundcolor": "#E5ECF6",
            "gridcolor": "white",
            "gridwidth": 2,
            "linecolor": "white",
            "showbackground": true,
            "ticks": "",
            "zerolinecolor": "white"
           }
          },
          "shapedefaults": {
           "line": {
            "color": "#2a3f5f"
           }
          },
          "ternary": {
           "aaxis": {
            "gridcolor": "white",
            "linecolor": "white",
            "ticks": ""
           },
           "baxis": {
            "gridcolor": "white",
            "linecolor": "white",
            "ticks": ""
           },
           "bgcolor": "#E5ECF6",
           "caxis": {
            "gridcolor": "white",
            "linecolor": "white",
            "ticks": ""
           }
          },
          "title": {
           "x": 0.05
          },
          "xaxis": {
           "automargin": true,
           "gridcolor": "white",
           "linecolor": "white",
           "ticks": "",
           "title": {
            "standoff": 15
           },
           "zerolinecolor": "white",
           "zerolinewidth": 2
          },
          "yaxis": {
           "automargin": true,
           "gridcolor": "white",
           "linecolor": "white",
           "ticks": "",
           "title": {
            "standoff": 15
           },
           "zerolinecolor": "white",
           "zerolinewidth": 2
          }
         }
        },
        "title": {
         "text": "Oscar Genre Bias (Winner Share – Film Share), with Female Representation"
        },
        "xaxis": {
         "anchor": "y",
         "domain": [
          0,
          1
         ],
         "tickangle": 45,
         "title": {
          "text": "Genre"
         }
        },
        "yaxis": {
         "anchor": "x",
         "domain": [
          0,
          1
         ],
         "title": {
          "text": "Bias (pp)"
         }
        }
       }
      },
      "image/png": "[encoded data removed]"
     },
     "metadata": {},
     "output_type": "display_data"
    }
   ],
   "source": [
    "import plotly.express as px\n",
    "import plotly.graph_objects as go\n",
    "import json, math\n",
    "from pathlib import Path\n",
    "\n",
    "# Robust winner flag (wins > 0; fallback to nominations > 0)\n",
    "d[\"osc_wins\"] = pd.to_numeric(d.get(\"osc_wins\", 0), errors=\"coerce\").fillna(0)\n",
    "d[\"osc_nominations\"] = pd.to_numeric(d.get(\"osc_nominations\", 0), errors=\"coerce\").fillna(0)\n",
    "d[\"is_winner\"] = np.where(d[\"osc_wins\"] > 0, 1, np.where(d[\"osc_nominations\"] > 0, 0, 0))\n",
    "\n",
    "# Compute shares using exploded genres\n",
    "all_counts = d.groupby(\"genre_split\").size().rename(\"all_count\")\n",
    "win_counts = d[d[\"is_winner\"]==1].groupby(\"genre_split\").size().rename(\"win_count\")\n",
    "\n",
    "g = pd.concat([all_counts, win_counts], axis=1).fillna(0).reset_index()\n",
    "g[\"all_pct\"] = g[\"all_count\"] / g[\"all_count\"].sum() * 100\n",
    "g[\"win_pct\"] = np.where(g[\"win_count\"].sum() > 0, g[\"win_count\"] / g[\"win_count\"].sum() * 100, 0)\n",
    "g[\"diff\"] = g[\"win_pct\"] - g[\"all_pct\"]\n",
    "\n",
    "# Female representation (median female_cast_ratio per exploded genre)\n",
    "if \"female_cast_ratio\" in d.columns:\n",
    "    fem_med = (d.groupby(\"genre_split\")[\"female_cast_ratio\"]\n",
    "                 .median()\n",
    "                 .rename(\"median_female_ratio\"))\n",
    "    g = g.merge(fem_med, on=\"genre_split\", how=\"left\")\n",
    "else:\n",
    "    g[\"median_female_ratio\"] = np.nan\n",
    "\n",
    "# Sort so the big biases stand out; filter tiny categories if you want\n",
    "g_sorted = g.sort_values(\"diff\", ascending=False)\n",
    "\n",
    "# Build the difference plot\n",
    "fig = px.bar(\n",
    "    g_sorted,\n",
    "    x=\"genre_split\", y=\"diff\",\n",
    "    color=\"median_female_ratio\", color_continuous_scale=\"RdYlBu\",\n",
    "    labels={\"genre_split\":\"Genre\", \"diff\":\"Bias (pp)\", \"median_female_ratio\":\"Median Female Cast Ratio\"},\n",
    "    title=\"Oscar Genre Bias (Winner Share – Film Share), with Female Representation\"\n",
    ")\n",
    "\n",
    "# Make labels readable and add zero line\n",
    "fig.update_layout(\n",
    "    height=520,\n",
    "    margin=dict(l=60, r=20, t=70, b=80),\n",
    "    xaxis_tickangle=12\n",
    ")\n",
    "fig.add_hline(y=0, line_color=\"gray\", line_width=1)\n",
    "\n",
    "fig.show()\n",
    "\n",
    "# ---------- (Optional) Export a WordPress-ready snippet ----------\n",
    "def write_wp_snippet(fig, out_path, div_id=\"genre-bias-diff\"):\n",
    "    def clean(obj):\n",
    "        if isinstance(obj, float) and (math.isnan(obj) or math.isinf(obj)): return None\n",
    "        if isinstance(obj, list):  return [clean(v) for v in obj]\n",
    "        if isinstance(obj, dict):  return {k: clean(v) for k,v in obj.items()}\n",
    "        return obj\n",
    "    dct = clean(fig.to_dict())\n",
    "    html = f\"\"\"\n",
    "<div id=\"{div_id}\" style=\"width:100%;height:520px;\"></div>\n",
    "<script>\n",
    "(function(){{\n",
    "  var data = {json.dumps(dct[\"data\"], separators=(',',':'))};\n",
    "  var layout = {json.dumps(dct[\"layout\"], separators=(',',':'))};\n",
    "  var config = {{responsive:true}};\n",
    "  function draw(){{\n",
    "    if(!window.Plotly) return setTimeout(draw,50);\n",
    "    Plotly.newPlot(\"{div_id}\", data, layout, config);\n",
    "  }}\n",
    "  if(document.readyState===\"loading\") document.addEventListener(\"DOMContentLoaded\", draw); else draw();\n",
    "}})();\n",
    "</script>\n",
    "\"\"\".strip()\n",
    "    Path(out_path).parent.mkdir(parents=True, exist_ok=True)\n",
    "    Path(out_path).write_text(html, encoding=\"utf-8\")\n",
    "    print(\"Wrote:\", out_path)\n",
    "\n",
    "# Call export if you want to embed in WordPress\n",
    "#write_wp_snippet(fig, \"wp_snippets/genre_bias_difference.html\", \"genre-bias-diff\")\n"
   ]
  },
  {
   "cell_type": "code",
   "execution_count": 59,
   "id": "1739170d-63d3-47f3-9643-a4195d31e8da",
   "metadata": {},
   "outputs": [
    {
     "data": {
      "application/vnd.plotly.v1+json": {
       "config": {
        "plotlyServerURL": "https://plot.ly"
       },
       "data": [
        {
         "link": {
          "source": [
           0,
           2,
           1,
           0,
           3,
           1,
           3,
           0,
           4,
           1,
           2
          ],
          "target": [
           2,
           5,
           2,
           3,
           6,
           3,
           5,
           4,
           5,
           4,
           6
          ],
          "value": [
           664,
           1172,
           513,
           321,
           27,
           285,
           579,
           6,
           11,
           5,
           5
          ]
         },
         "node": {
          "label": [
           "Fail",
           "Pass",
           "Low ROI",
           "High ROI",
           "Unknown",
           "Not Nominated",
           "Nominated"
          ],
          "pad": 16,
          "thickness": 18
         },
         "type": "sankey"
        }
       ],
       "layout": {
        "height": 520,
        "margin": {
         "b": 10,
         "l": 10,
         "r": 10,
         "t": 70
        },
        "template": {
         "data": {
          "bar": [
           {
            "error_x": {
             "color": "#2a3f5f"
            },
            "error_y": {
             "color": "#2a3f5f"
            },
            "marker": {
             "line": {
              "color": "#E5ECF6",
              "width": 0.5
             },
             "pattern": {
              "fillmode": "overlay",
              "size": 10,
              "solidity": 0.2
             }
            },
            "type": "bar"
           }
          ],
          "barpolar": [
           {
            "marker": {
             "line": {
              "color": "#E5ECF6",
              "width": 0.5
             },
             "pattern": {
              "fillmode": "overlay",
              "size": 10,
              "solidity": 0.2
             }
            },
            "type": "barpolar"
           }
          ],
          "carpet": [
           {
            "aaxis": {
             "endlinecolor": "#2a3f5f",
             "gridcolor": "white",
             "linecolor": "white",
             "minorgridcolor": "white",
             "startlinecolor": "#2a3f5f"
            },
            "baxis": {
             "endlinecolor": "#2a3f5f",
             "gridcolor": "white",
             "linecolor": "white",
             "minorgridcolor": "white",
             "startlinecolor": "#2a3f5f"
            },
            "type": "carpet"
           }
          ],
          "choropleth": [
           {
            "colorbar": {
             "outlinewidth": 0,
             "ticks": ""
            },
            "type": "choropleth"
           }
          ],
          "contour": [
           {
            "colorbar": {
             "outlinewidth": 0,
             "ticks": ""
            },
            "colorscale": [
             [
              0,
              "#0d0887"
             ],
             [
              0.1111111111111111,
              "#46039f"
             ],
             [
              0.2222222222222222,
              "#7201a8"
             ],
             [
              0.3333333333333333,
              "#9c179e"
             ],
             [
              0.4444444444444444,
              "#bd3786"
             ],
             [
              0.5555555555555556,
              "#d8576b"
             ],
             [
              0.6666666666666666,
              "#ed7953"
             ],
             [
              0.7777777777777778,
              "#fb9f3a"
             ],
             [
              0.8888888888888888,
              "#fdca26"
             ],
             [
              1,
              "#f0f921"
             ]
            ],
            "type": "contour"
           }
          ],
          "contourcarpet": [
           {
            "colorbar": {
             "outlinewidth": 0,
             "ticks": ""
            },
            "type": "contourcarpet"
           }
          ],
          "heatmap": [
           {
            "colorbar": {
             "outlinewidth": 0,
             "ticks": ""
            },
            "colorscale": [
             [
              0,
              "#0d0887"
             ],
             [
              0.1111111111111111,
              "#46039f"
             ],
             [
              0.2222222222222222,
              "#7201a8"
             ],
             [
              0.3333333333333333,
              "#9c179e"
             ],
             [
              0.4444444444444444,
              "#bd3786"
             ],
             [
              0.5555555555555556,
              "#d8576b"
             ],
             [
              0.6666666666666666,
              "#ed7953"
             ],
             [
              0.7777777777777778,
              "#fb9f3a"
             ],
             [
              0.8888888888888888,
              "#fdca26"
             ],
             [
              1,
              "#f0f921"
             ]
            ],
            "type": "heatmap"
           }
          ],
          "histogram": [
           {
            "marker": {
             "pattern": {
              "fillmode": "overlay",
              "size": 10,
              "solidity": 0.2
             }
            },
            "type": "histogram"
           }
          ],
          "histogram2d": [
           {
            "colorbar": {
             "outlinewidth": 0,
             "ticks": ""
            },
            "colorscale": [
             [
              0,
              "#0d0887"
             ],
             [
              0.1111111111111111,
              "#46039f"
             ],
             [
              0.2222222222222222,
              "#7201a8"
             ],
             [
              0.3333333333333333,
              "#9c179e"
             ],
             [
              0.4444444444444444,
              "#bd3786"
             ],
             [
              0.5555555555555556,
              "#d8576b"
             ],
             [
              0.6666666666666666,
              "#ed7953"
             ],
             [
              0.7777777777777778,
              "#fb9f3a"
             ],
             [
              0.8888888888888888,
              "#fdca26"
             ],
             [
              1,
              "#f0f921"
             ]
            ],
            "type": "histogram2d"
           }
          ],
          "histogram2dcontour": [
           {
            "colorbar": {
             "outlinewidth": 0,
             "ticks": ""
            },
            "colorscale": [
             [
              0,
              "#0d0887"
             ],
             [
              0.1111111111111111,
              "#46039f"
             ],
             [
              0.2222222222222222,
              "#7201a8"
             ],
             [
              0.3333333333333333,
              "#9c179e"
             ],
             [
              0.4444444444444444,
              "#bd3786"
             ],
             [
              0.5555555555555556,
              "#d8576b"
             ],
             [
              0.6666666666666666,
              "#ed7953"
             ],
             [
              0.7777777777777778,
              "#fb9f3a"
             ],
             [
              0.8888888888888888,
              "#fdca26"
             ],
             [
              1,
              "#f0f921"
             ]
            ],
            "type": "histogram2dcontour"
           }
          ],
          "mesh3d": [
           {
            "colorbar": {
             "outlinewidth": 0,
             "ticks": ""
            },
            "type": "mesh3d"
           }
          ],
          "parcoords": [
           {
            "line": {
             "colorbar": {
              "outlinewidth": 0,
              "ticks": ""
             }
            },
            "type": "parcoords"
           }
          ],
          "pie": [
           {
            "automargin": true,
            "type": "pie"
           }
          ],
          "scatter": [
           {
            "fillpattern": {
             "fillmode": "overlay",
             "size": 10,
             "solidity": 0.2
            },
            "type": "scatter"
           }
          ],
          "scatter3d": [
           {
            "line": {
             "colorbar": {
              "outlinewidth": 0,
              "ticks": ""
             }
            },
            "marker": {
             "colorbar": {
              "outlinewidth": 0,
              "ticks": ""
             }
            },
            "type": "scatter3d"
           }
          ],
          "scattercarpet": [
           {
            "marker": {
             "colorbar": {
              "outlinewidth": 0,
              "ticks": ""
             }
            },
            "type": "scattercarpet"
           }
          ],
          "scattergeo": [
           {
            "marker": {
             "colorbar": {
              "outlinewidth": 0,
              "ticks": ""
             }
            },
            "type": "scattergeo"
           }
          ],
          "scattergl": [
           {
            "marker": {
             "colorbar": {
              "outlinewidth": 0,
              "ticks": ""
             }
            },
            "type": "scattergl"
           }
          ],
          "scattermap": [
           {
            "marker": {
             "colorbar": {
              "outlinewidth": 0,
              "ticks": ""
             }
            },
            "type": "scattermap"
           }
          ],
          "scattermapbox": [
           {
            "marker": {
             "colorbar": {
              "outlinewidth": 0,
              "ticks": ""
             }
            },
            "type": "scattermapbox"
           }
          ],
          "scatterpolar": [
           {
            "marker": {
             "colorbar": {
              "outlinewidth": 0,
              "ticks": ""
             }
            },
            "type": "scatterpolar"
           }
          ],
          "scatterpolargl": [
           {
            "marker": {
             "colorbar": {
              "outlinewidth": 0,
              "ticks": ""
             }
            },
            "type": "scatterpolargl"
           }
          ],
          "scatterternary": [
           {
            "marker": {
             "colorbar": {
              "outlinewidth": 0,
              "ticks": ""
             }
            },
            "type": "scatterternary"
           }
          ],
          "surface": [
           {
            "colorbar": {
             "outlinewidth": 0,
             "ticks": ""
            },
            "colorscale": [
             [
              0,
              "#0d0887"
             ],
             [
              0.1111111111111111,
              "#46039f"
             ],
             [
              0.2222222222222222,
              "#7201a8"
             ],
             [
              0.3333333333333333,
              "#9c179e"
             ],
             [
              0.4444444444444444,
              "#bd3786"
             ],
             [
              0.5555555555555556,
              "#d8576b"
             ],
             [
              0.6666666666666666,
              "#ed7953"
             ],
             [
              0.7777777777777778,
              "#fb9f3a"
             ],
             [
              0.8888888888888888,
              "#fdca26"
             ],
             [
              1,
              "#f0f921"
             ]
            ],
            "type": "surface"
           }
          ],
          "table": [
           {
            "cells": {
             "fill": {
              "color": "#EBF0F8"
             },
             "line": {
              "color": "white"
             }
            },
            "header": {
             "fill": {
              "color": "#C8D4E3"
             },
             "line": {
              "color": "white"
             }
            },
            "type": "table"
           }
          ]
         },
         "layout": {
          "annotationdefaults": {
           "arrowcolor": "#2a3f5f",
           "arrowhead": 0,
           "arrowwidth": 1
          },
          "autotypenumbers": "strict",
          "coloraxis": {
           "colorbar": {
            "outlinewidth": 0,
            "ticks": ""
           }
          },
          "colorscale": {
           "diverging": [
            [
             0,
             "#8e0152"
            ],
            [
             0.1,
             "#c51b7d"
            ],
            [
             0.2,
             "#de77ae"
            ],
            [
             0.3,
             "#f1b6da"
            ],
            [
             0.4,
             "#fde0ef"
            ],
            [
             0.5,
             "#f7f7f7"
            ],
            [
             0.6,
             "#e6f5d0"
            ],
            [
             0.7,
             "#b8e186"
            ],
            [
             0.8,
             "#7fbc41"
            ],
            [
             0.9,
             "#4d9221"
            ],
            [
             1,
             "#276419"
            ]
           ],
           "sequential": [
            [
             0,
             "#0d0887"
            ],
            [
             0.1111111111111111,
             "#46039f"
            ],
            [
             0.2222222222222222,
             "#7201a8"
            ],
            [
             0.3333333333333333,
             "#9c179e"
            ],
            [
             0.4444444444444444,
             "#bd3786"
            ],
            [
             0.5555555555555556,
             "#d8576b"
            ],
            [
             0.6666666666666666,
             "#ed7953"
            ],
            [
             0.7777777777777778,
             "#fb9f3a"
            ],
            [
             0.8888888888888888,
             "#fdca26"
            ],
            [
             1,
             "#f0f921"
            ]
           ],
           "sequentialminus": [
            [
             0,
             "#0d0887"
            ],
            [
             0.1111111111111111,
             "#46039f"
            ],
            [
             0.2222222222222222,
             "#7201a8"
            ],
            [
             0.3333333333333333,
             "#9c179e"
            ],
            [
             0.4444444444444444,
             "#bd3786"
            ],
            [
             0.5555555555555556,
             "#d8576b"
            ],
            [
             0.6666666666666666,
             "#ed7953"
            ],
            [
             0.7777777777777778,
             "#fb9f3a"
            ],
            [
             0.8888888888888888,
             "#fdca26"
            ],
            [
             1,
             "#f0f921"
            ]
           ]
          },
          "colorway": [
           "#636efa",
           "#EF553B",
           "#00cc96",
           "#ab63fa",
           "#FFA15A",
           "#19d3f3",
           "#FF6692",
           "#B6E880",
           "#FF97FF",
           "#FECB52"
          ],
          "font": {
           "color": "#2a3f5f"
          },
          "geo": {
           "bgcolor": "white",
           "lakecolor": "white",
           "landcolor": "#E5ECF6",
           "showlakes": true,
           "showland": true,
           "subunitcolor": "white"
          },
          "hoverlabel": {
           "align": "left"
          },
          "hovermode": "closest",
          "mapbox": {
           "style": "light"
          },
          "paper_bgcolor": "white",
          "plot_bgcolor": "#E5ECF6",
          "polar": {
           "angularaxis": {
            "gridcolor": "white",
            "linecolor": "white",
            "ticks": ""
           },
           "bgcolor": "#E5ECF6",
           "radialaxis": {
            "gridcolor": "white",
            "linecolor": "white",
            "ticks": ""
           }
          },
          "scene": {
           "xaxis": {
            "backgroundcolor": "#E5ECF6",
            "gridcolor": "white",
            "gridwidth": 2,
            "linecolor": "white",
            "showbackground": true,
            "ticks": "",
            "zerolinecolor": "white"
           },
           "yaxis": {
            "backgroundcolor": "#E5ECF6",
            "gridcolor": "white",
            "gridwidth": 2,
            "linecolor": "white",
            "showbackground": true,
            "ticks": "",
            "zerolinecolor": "white"
           },
           "zaxis": {
            "backgroundcolor": "#E5ECF6",
            "gridcolor": "white",
            "gridwidth": 2,
            "linecolor": "white",
            "showbackground": true,
            "ticks": "",
            "zerolinecolor": "white"
           }
          },
          "shapedefaults": {
           "line": {
            "color": "#2a3f5f"
           }
          },
          "ternary": {
           "aaxis": {
            "gridcolor": "white",
            "linecolor": "white",
            "ticks": ""
           },
           "baxis": {
            "gridcolor": "white",
            "linecolor": "white",
            "ticks": ""
           },
           "bgcolor": "#E5ECF6",
           "caxis": {
            "gridcolor": "white",
            "linecolor": "white",
            "ticks": ""
           }
          },
          "title": {
           "x": 0.05
          },
          "xaxis": {
           "automargin": true,
           "gridcolor": "white",
           "linecolor": "white",
           "ticks": "",
           "title": {
            "standoff": 15
           },
           "zerolinecolor": "white",
           "zerolinewidth": 2
          },
          "yaxis": {
           "automargin": true,
           "gridcolor": "white",
           "linecolor": "white",
           "ticks": "",
           "title": {
            "standoff": 15
           },
           "zerolinecolor": "white",
           "zerolinewidth": 2
          }
         }
        },
        "title": {
         "text": "Pathways: Bechdel Pass → ROI Success → Oscar Nomination"
        }
       }
      },
      "image/png": "[encoded data removed]"
     },
     "metadata": {},
     "output_type": "display_data"
    }
   ],
   "source": [
    "import numpy as np\n",
    "import pandas as pd\n",
    "import plotly.graph_objects as go\n",
    "\n",
    "d = df.copy()\n",
    "d[\"roi\"] = pd.to_numeric(d[\"roi\"], errors=\"coerce\")\n",
    "d[\"osc_nominations\"] = pd.to_numeric(d.get(\"osc_nominations\", 0), errors=\"coerce\").fillna(0)\n",
    "\n",
    "# ---- ROI bucket (robust) ----\n",
    "d[\"roi_bucket\"] = pd.NA\n",
    "mask = d[\"roi\"].notna()\n",
    "if mask.sum() >= 50:\n",
    "    thr = d.loc[mask, \"roi\"].quantile(0.66)\n",
    "    # assign ONLY to the masked rows; RHS has same length\n",
    "    d.loc[mask, \"roi_bucket\"] = np.where(d.loc[mask, \"roi\"] >= thr, \"High ROI\", \"Low ROI\")\n",
    "else:\n",
    "    d.loc[mask, \"roi_bucket\"] = \"Low ROI\"   # or keep as NA\n",
    "# fill the rest for Sankey\n",
    "d[\"roi_bucket\"] = d[\"roi_bucket\"].fillna(\"Unknown\")\n",
    "\n",
    "# ---- Nomination flag ----\n",
    "d[\"nominated\"] = np.where(d[\"osc_nominations\"] > 0, \"Nominated\", \"Not Nominated\")\n",
    "\n",
    "# ---- Bechdel pass flag (if not already present) ----\n",
    "if \"bechdel_pass\" not in d.columns:\n",
    "    d[\"bechdel_pass\"] = (\n",
    "        d.get(\"binary\", \"\")\n",
    "         .astype(str).str.upper().isin([\"PASS\",\"1\",\"TRUE\",\"YES\"])\n",
    "         .astype(int)\n",
    "    )\n",
    "d[\"pass_stage\"] = np.where(d[\"bechdel_pass\"] == 1, \"Pass\", \"Fail\")\n",
    "\n",
    "# ---- Build Sankey counts ----\n",
    "from collections import Counter\n",
    "flows = Counter()\n",
    "rows = d.dropna(subset=[\"pass_stage\", \"roi_bucket\", \"nominated\"])\n",
    "\n",
    "for _, row in rows.iterrows():\n",
    "    flows[(row[\"pass_stage\"], row[\"roi_bucket\"])] += 1\n",
    "    flows[(row[\"roi_bucket\"], row[\"nominated\"])] += 1\n",
    "\n",
    "# nodes in a sensible order\n",
    "order = [\"Fail\", \"Pass\", \"Low ROI\", \"High ROI\", \"Unknown\", \"Not Nominated\", \"Nominated\"]\n",
    "nodes = [n for n in order if any(a==n or b==n for a,b in flows.keys())]\n",
    "idx = {name:i for i,name in enumerate(nodes)}\n",
    "\n",
    "src, tgt, val = [], [], []\n",
    "for (a, b), v in flows.items():\n",
    "    src.append(idx[a]); tgt.append(idx[b]); val.append(int(v))\n",
    "\n",
    "fig = go.Figure(go.Sankey(\n",
    "    node=dict(label=nodes, pad=16, thickness=18),\n",
    "    link=dict(source=src, target=tgt, value=val)\n",
    "))\n",
    "fig.update_layout(\n",
    "    title=\"Pathways: Bechdel Pass → ROI Success → Oscar Nomination\",\n",
    "    height=520, margin=dict(l=10, r=10, t=70, b=10)\n",
    ")\n",
    "fig.show()\n"
   ]
  },
  {
   "cell_type": "code",
   "execution_count": null,
   "id": "6939827d-2c63-477a-884a-f8a5f5fbac9b",
   "metadata": {},
   "outputs": [],
   "source": []
  }
 ],
 "metadata": {
  "kernelspec": {
   "display_name": "Python 3 (ipykernel)",
   "language": "python",
   "name": "python3"
  },
  "language_info": {
   "codemirror_mode": {
    "name": "ipython",
    "version": 3
   },
   "file_extension": ".py",
   "mimetype": "text/x-python",
   "name": "python",
   "nbconvert_exporter": "python",
   "pygments_lexer": "ipython3",
   "version": "3.13.3"
  }
 },
 "nbformat": 4,
 "nbformat_minor": 5
}
