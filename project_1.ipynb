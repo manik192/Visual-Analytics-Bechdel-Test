{
 "cells": [
  {
   "cell_type": "code",
   "execution_count": 47,
   "id": "8fe81b47-1b3a-44c2-95a2-997dcde5393e",
   "metadata": {},
   "outputs": [],
   "source": [
    "import pandas as pd, numpy as np, math, json\n",
    "import plotly.express as px\n",
    "import plotly.graph_objects as go\n",
    "from pathlib import Path\n",
    "\n",
    "DF_PATH = \"bechdel_enriched_with_gender.csv\" \n",
    "df = pd.read_csv(DF_PATH)"
   ]
  },
  {
   "cell_type": "code",
   "execution_count": 63,
   "id": "5e802ece-3593-48d9-ab1a-d16f26f0dd79",
   "metadata": {},
   "outputs": [],
   "source": [
    "import json\n",
    "from pathlib import Path\n",
    "import numpy as np\n",
    "import math\n",
    "\n",
    "def write_wp_snippet_plain(\n",
    "    fig,\n",
    "    out_path,\n",
    "    div_id,\n",
    "    height=520,\n",
    "    plotly_cdn=\"https://cdn.plot.ly/plotly-2.35.2.min.js\",\n",
    "):\n",
    "\n",
    "    def clean(obj):\n",
    "        # None stays None\n",
    "        if obj is None:\n",
    "            return None\n",
    "\n",
    "        if isinstance(obj, (np.bool_,)):\n",
    "            return bool(obj)\n",
    "        if isinstance(obj, (np.integer,)):\n",
    "            return int(obj)\n",
    "        if isinstance(obj, (np.floating,)):\n",
    "            x = float(obj)\n",
    "            return None if (math.isnan(x) or math.isinf(x)) else x\n",
    "\n",
    "        if isinstance(obj, float):\n",
    "            return None if (math.isnan(obj) or math.isinf(obj)) else obj\n",
    "\n",
    "        if isinstance(obj, np.ndarray):\n",
    "            return [clean(v) for v in obj.tolist()]\n",
    "\n",
    "        if isinstance(obj, (list, tuple)):\n",
    "            return [clean(v) for v in obj]\n",
    "\n",
    "        if isinstance(obj, dict):\n",
    "\n",
    "            return {k: clean(v) for k, v in obj.items()}\n",
    "\n",
    "        return obj\n",
    "\n",
    "    dct = clean(fig.to_dict())\n",
    "\n",
    "    if isinstance(dct, dict) and \"layout\" in dct and isinstance(dct[\"layout\"], dict):\n",
    "        dct[\"layout\"].pop(\"template\", None)\n",
    "        # Ensure explicit height so WP containers don't squash it\n",
    "        dct[\"layout\"][\"height\"] = int(height)\n",
    "\n",
    "    data_json = json.dumps(dct.get(\"data\", []), separators=(\",\", \":\"))\n",
    "    layout_json = json.dumps(dct.get(\"layout\", {}), separators=(\",\", \":\"))\n",
    "\n",
    "    html = f\"\"\"\n",
    "<div id=\"{div_id}\" style=\"width:100%;height:{height}px;\"></div>\n",
    "<script>\n",
    "(function(){{\n",
    "  var _data = {data_json};\n",
    "  var _layout = {layout_json};\n",
    "  var _config = {{responsive:true,displaylogo:false}};\n",
    "\n",
    "  function draw(){{\n",
    "    var el = document.getElementById(\"{div_id}\");\n",
    "    if(!el) return setTimeout(draw, 30);\n",
    "    if(!window.Plotly) return setTimeout(draw, 50);\n",
    "    try {{\n",
    "      Plotly.newPlot(el, _data, _layout, _config);\n",
    "    }} catch(e) {{\n",
    "      console.error(\"Plotly render error:\", e);\n",
    "    }}\n",
    "  }}\n",
    "\n",
    "  // If Plotly isn't loaded, inject it once, then render\n",
    "  if(!window.Plotly){{\n",
    "    if(!document.getElementById(\"plotly-cdn-loader\")){{\n",
    "      var s = document.createElement(\"script\");\n",
    "      s.id = \"plotly-cdn-loader\";\n",
    "      s.src = \"{plotly_cdn}\";\n",
    "      s.onload = draw;\n",
    "      document.head.appendChild(s);\n",
    "    }} else {{\n",
    "      setTimeout(draw, 100);\n",
    "    }}\n",
    "  }} else {{\n",
    "    draw();\n",
    "  }}\n",
    "\n",
    "  if(document.readyState === \"loading\") {{\n",
    "    document.addEventListener(\"DOMContentLoaded\", draw);\n",
    "  }}\n",
    "}})();\n",
    "</script>\n",
    "\"\"\".strip()\n",
    "\n",
    "    Path(out_path).parent.mkdir(parents=True, exist_ok=True)\n",
    "    Path(out_path).write_text(html, encoding=\"utf-8\")\n",
    "    print(\"Wrote:\", out_path)\n"
   ]
  },
  {
   "cell_type": "code",
   "execution_count": 64,
   "id": "84f8f89f-aedd-4b14-a1db-3cab96e24edc",
   "metadata": {},
   "outputs": [
    {
     "name": "stdout",
     "output_type": "stream",
     "text": [
      "decade_stats rows: 5\n",
      "studio_pass rows: 537\n",
      "osc rows: 537\n",
      "g rows: 529\n",
      "genre_trend rows: 21\n",
      "crew_corr rows: 1653\n",
      "corr shape: (13, 13)\n"
     ]
    }
   ],
   "source": [
    "import pandas as pd, numpy as np, re\n",
    "\n",
    "df = df.copy()\n",
    "\n",
    "def first_present(cols):\n",
    "    for c in cols:\n",
    "        if c in df.columns:\n",
    "            return c\n",
    "    return None\n",
    "\n",
    "ycol = first_present([\"year_int\",\"year\",\"year_final\"])\n",
    "year_series = pd.to_numeric(df[ycol], errors=\"coerce\") if ycol else pd.Series(np.nan, index=df.index)\n",
    "dec_start = (year_series // 10) * 10\n",
    "df[\"decade\"] = dec_start.astype(\"Int64\").astype(\"string\") + \"s\"\n",
    "\n",
    "s = pd.to_numeric(df[first_present([\"binary\"])], errors=\"coerce\") if first_present([\"binary\"]) else pd.Series(np.nan, index=df.index)\n",
    "if first_present([\"bechdel_pass\"]):\n",
    "    m = s.isna()\n",
    "    map_bp = df[\"bechdel_pass\"].astype(str).str.lower().map({\"pass\":1,\"fail\":0,\"yes\":1,\"no\":0,\"1\":1,\"0\":0})\n",
    "    s = s.where(~m, map_bp)\n",
    "if first_present([\"clean_test\"]):\n",
    "    m = s.isna()\n",
    "    ct = df[\"clean_test\"].astype(str).str.lower()\n",
    "    s = s.where(~m, np.where(ct.str.startswith(\"ok\"), 1, np.where(ct.isin([\"men\",\"nowomen\",\"notalk\",\"dubious\"]), 0, np.nan)))\n",
    "if first_present([\"test\"]):\n",
    "    m = s.isna()\n",
    "    tt = df[\"test\"].astype(str).str.lower()\n",
    "    s = s.where(~m, tt.map({\"ok\":1,\"men\":0,\"nowomen\":0,\"notalk\":0,\"dubious\":0}))\n",
    "df[\"bechdel_pass_bin\"] = pd.to_numeric(s, errors=\"coerce\").fillna(0).astype(int)\n",
    "\n",
    "osc_nom_col = first_present([\"osc_nominations\",\"oscar_nominations\",\"osc_nom\",\"oscars_nominated\"])\n",
    "df[\"_osc_noms_num\"] = pd.to_numeric(df[osc_nom_col], errors=\"coerce\").fillna(0) if osc_nom_col else 0\n",
    "osc_win_col = first_present([\"osc_wins\",\"oscar_wins\"])\n",
    "df[\"_osc_wins_num\"] = pd.to_numeric(df[osc_win_col], errors=\"coerce\").fillna(0) if osc_win_col else 0\n",
    "\n",
    "pc_col = first_present([\"production_company\",\"production_companies\",\"production_companies_names\",\"production_companies_list\"])\n",
    "if pc_col:\n",
    "    pc_vals = df[pc_col].astype(str)\n",
    "    pc_vals = pc_vals.str.replace(r\"^\\[|\\]$\",\"\",regex=True).str.replace(\"'\", \"\", regex=False)\n",
    "    df[\"production_company_norm\"] = pc_vals.str.split(\"[|,]\").str[0].str.strip().replace({\"\":np.nan})\n",
    "else:\n",
    "    df[\"production_company_norm\"] = np.nan\n",
    "\n",
    "bcol = first_present([\"budget_2013$\",\"budget_adj\",\"budget\"])\n",
    "dgcol = first_present([\"domgross_2013$\",\"domgross_adj\",\"domgross\"])\n",
    "igcol = first_present([\"intgross_2013$\",\"intgross_adj\",\"intgross\"])\n",
    "budget = pd.to_numeric(df[bcol], errors=\"coerce\") if bcol else np.nan\n",
    "dom = pd.to_numeric(df[dgcol], errors=\"coerce\") if dgcol else 0\n",
    "intl = pd.to_numeric(df[igcol], errors=\"coerce\") if igcol else 0\n",
    "world = pd.Series(dom, index=df.index).add(pd.Series(intl, index=df.index), fill_value=0)\n",
    "df[\"_roi\"] = np.where((pd.notna(budget)) & (budget>0), world / budget, np.nan)\n",
    "\n",
    "fcast = pd.to_numeric(df[first_present([\"female_cast_ratio\",\"female_cast_pct\"])], errors=\"coerce\") if first_present([\"female_cast_ratio\",\"female_cast_pct\"]) else np.nan\n",
    "fcrew = pd.to_numeric(df[first_present([\"female_crew_ratio\",\"female_crew_pct\"])], errors=\"coerce\") if first_present([\"female_crew_ratio\",\"female_crew_pct\"]) else np.nan\n",
    "df[\"female_cast_ratio\"] = fcast\n",
    "df[\"female_crew_ratio\"] = fcrew\n",
    "\n",
    "gcol = first_present([\"genre\",\"genres\",\"Genre\"])\n",
    "if gcol:\n",
    "    _g = df[[gcol,\"bechdel_pass_bin\"]].copy()\n",
    "    _g[gcol] = _g[gcol].astype(str)\n",
    "    _g = _g.assign(_list=_g[gcol].str.split(\",\")).explode(\"_list\", ignore_index=True)\n",
    "    _g[\"_list\"] = _g[\"_list\"].str.strip()\n",
    "    _g = _g[_g[\"_list\"].ne(\"\")]\n",
    "else:\n",
    "    _g = pd.DataFrame(columns=[\"_list\",\"bechdel_pass_bin\"])\n",
    "\n",
    "df[\"_imdb_rating\"] = pd.to_numeric(df[first_present([\"imdb_rating\",\"avg_vote\",\"imdb_score\"])], errors=\"coerce\") if first_present([\"imdb_rating\",\"avg_vote\",\"imdb_score\"]) else np.nan\n",
    "df[\"_imdb_votes\"]  = pd.to_numeric(df[first_present([\"imdb_votes\",\"votes\"])], errors=\"coerce\") if first_present([\"imdb_votes\",\"votes\"]) else np.nan\n",
    "df[\"_runtime\"]     = pd.to_numeric(df[first_present([\"runtime_minutes\",\"duration\"])], errors=\"coerce\") if first_present([\"runtime_minutes\",\"duration\"]) else np.nan\n",
    "df[\"_cast_count\"]  = pd.to_numeric(df[first_present([\"cast_count\"])], errors=\"coerce\") if first_present([\"cast_count\"]) else np.nan\n",
    "df[\"_crew_count\"]  = pd.to_numeric(df[first_present([\"crew_count\"])], errors=\"coerce\") if first_present([\"crew_count\"]) else np.nan\n",
    "df[\"_budget\"]      = pd.to_numeric(df[bcol], errors=\"coerce\") if bcol else np.nan\n",
    "df[\"_domgross\"]    = pd.to_numeric(df[dgcol], errors=\"coerce\") if dgcol else np.nan\n",
    "df[\"_intgross\"]    = pd.to_numeric(df[igcol], errors=\"coerce\") if igcol else np.nan\n",
    "\n",
    "decade_stats = (\n",
    "    df.dropna(subset=[\"decade\"])\n",
    "      .groupby(\"decade\", dropna=True)\n",
    "      .agg(\n",
    "          pass_rate=(\"bechdel_pass_bin\",\"mean\"),\n",
    "          oscar_rate=(\"_osc_noms_num\", lambda x: (x>0).mean())\n",
    "      )\n",
    "      .reset_index()\n",
    ")\n",
    "decade_stats[\"pass_rate\"] = (decade_stats[\"pass_rate\"]*100).round(2)\n",
    "decade_stats[\"oscar_rate\"] = (decade_stats[\"oscar_rate\"]*100).round(2)\n",
    "try:\n",
    "    decade_stats[\"_d\"] = decade_stats[\"decade\"].str.rstrip(\"s\").astype(int)\n",
    "    decade_stats = decade_stats.sort_values(\"_d\").drop(columns=\"_d\")\n",
    "except:\n",
    "    pass\n",
    "\n",
    "studio_pass = (\n",
    "    df.dropna(subset=[\"production_company_norm\"])\n",
    "      .groupby(\"production_company_norm\")[\"bechdel_pass_bin\"]\n",
    "      .mean().mul(100).reset_index(name=\"pass_pct\")\n",
    "      .sort_values(\"pass_pct\", ascending=False)\n",
    "      .rename(columns={\"production_company_norm\":\"production_company\"})\n",
    ")\n",
    "\n",
    "osc = (\n",
    "    df.dropna(subset=[\"production_company_norm\"])\n",
    "      .groupby(\"production_company_norm\")[[\"bechdel_pass_bin\",\"_osc_wins_num\"]]\n",
    "      .mean().reset_index()\n",
    "      .rename(columns={\"production_company_norm\":\"production_company\",\"_osc_wins_num\":\"osc_wins\"})\n",
    ")\n",
    "osc[\"binary\"] = (osc[\"bechdel_pass_bin\"]*100).round(2)\n",
    "\n",
    "g = (\n",
    "    df.dropna(subset=[\"production_company_norm\"])\n",
    "      .groupby(\"production_company_norm\")\n",
    "      .agg(pass_rate=(\"bechdel_pass_bin\",\"mean\"), avg_roi=(\"_roi\",\"mean\"))\n",
    "      .dropna()\n",
    "      .reset_index()\n",
    "      .rename(columns={\"production_company_norm\":\"production_company\"})\n",
    ")\n",
    "g[\"pass_rate\"] = (g[\"pass_rate\"]*100).round(2)\n",
    "\n",
    "genre_trend = (\n",
    "    _g.groupby(\"_list\")[\"bechdel_pass_bin\"]\n",
    "      .mean().mul(100).reset_index(name=\"pass_pct\")\n",
    "      .sort_values(\"pass_pct\", ascending=False)\n",
    "      .rename(columns={\"_list\":\"genre\"})\n",
    ")\n",
    "\n",
    "crew_corr = df[[\"female_crew_ratio\",\"female_cast_ratio\"]].apply(pd.to_numeric, errors=\"coerce\").dropna()\n",
    "\n",
    "numeric_cols = [\n",
    "    \"_roi\",\"_imdb_rating\",\"_imdb_votes\",\"_runtime\",\n",
    "    \"female_cast_ratio\",\"female_crew_ratio\",\"_cast_count\",\"_crew_count\",\n",
    "    \"_osc_wins_num\",\"_osc_noms_num\",\"_budget\",\"_domgross\",\"_intgross\"\n",
    "]\n",
    "present = [c for c in numeric_cols if c in df.columns]\n",
    "corr = df[present].corr().round(2)\n",
    "\n",
    "print(\"decade_stats rows:\", len(decade_stats))\n",
    "print(\"studio_pass rows:\", len(studio_pass))\n",
    "print(\"osc rows:\", len(osc))\n",
    "print(\"g rows:\", len(g))\n",
    "print(\"genre_trend rows:\", len(genre_trend))\n",
    "print(\"crew_corr rows:\", len(crew_corr))\n",
    "print(\"corr shape:\", corr.shape)\n"
   ]
  },
  {
   "cell_type": "code",
   "execution_count": 65,
   "id": "987478f7-dec5-4a76-9df2-4f995468cdb6",
   "metadata": {},
   "outputs": [
    {
     "name": "stdout",
     "output_type": "stream",
     "text": [
      "bechdel_pass_bin\n",
      "0    0.552397\n",
      "1    0.447603\n",
      "Name: proportion, dtype: float64\n"
     ]
    }
   ],
   "source": [
    "# Rebuild bechdel_pass_bin from clean_test / test\n",
    "df[\"bechdel_pass_bin\"] = df[\"clean_test\"].astype(str).str.lower().map(\n",
    "    {\"ok\": 1, \"notalk\": 0, \"men\": 0, \"nowomen\": 0, \"dubious\": 0}\n",
    ")\n",
    "\n",
    "df.loc[df[\"bechdel_pass_bin\"].isna(), \"bechdel_pass_bin\"] = df[\"test\"].astype(str).str.lower().apply(\n",
    "    lambda x: 1 if x.startswith(\"ok\") else 0\n",
    ")\n",
    "\n",
    "df[\"bechdel_pass_bin\"] = df[\"bechdel_pass_bin\"].astype(int)\n",
    "\n",
    "print(df[\"bechdel_pass_bin\"].value_counts(normalize=True))\n"
   ]
  },
  {
   "cell_type": "code",
   "execution_count": 66,
   "id": "6939827d-2c63-477a-884a-f8a5f5fbac9b",
   "metadata": {},
   "outputs": [
    {
     "data": {
      "application/vnd.plotly.v1+json": {
       "config": {
        "plotlyServerURL": "https://plot.ly"
       },
       "data": [
        {
         "hovertemplate": "Series=pass_rate<br>Decade=%{x}<br>Percent=%{y}<extra></extra>",
         "legendgroup": "pass_rate",
         "line": {
          "color": "#636efa",
          "dash": "solid"
         },
         "marker": {
          "symbol": "circle"
         },
         "mode": "lines+markers",
         "name": "pass_rate",
         "orientation": "v",
         "showlegend": true,
         "type": "scatter",
         "x": [
          "1970s",
          "1980s",
          "1990s",
          "2000s",
          "2010s"
         ],
         "xaxis": "x",
         "y": {
          "bdata": "rkfhehTuOUDNzMzMzMw8QI/C9Shcz0VAuB6F61FYSEA9CtejcH1GQA==",
          "dtype": "f8"
         },
         "yaxis": "y"
        },
        {
         "hovertemplate": "Series=oscar_rate<br>Decade=%{x}<br>Percent=%{y}<extra></extra>",
         "legendgroup": "oscar_rate",
         "line": {
          "color": "#EF553B",
          "dash": "solid"
         },
         "marker": {
          "symbol": "circle"
         },
         "mode": "lines+markers",
         "name": "oscar_rate",
         "orientation": "v",
         "showlegend": true,
         "type": "scatter",
         "x": [
          "1970s",
          "1980s",
          "1990s",
          "2000s",
          "2010s"
         ],
         "xaxis": "x",
         "y": {
          "bdata": "H4XrUbieLUCamZmZmZkJQPYoXI/C9QJAZmZmZmZm7j8fhetRuB7tPw==",
          "dtype": "f8"
         },
         "yaxis": "y"
        }
       ],
       "layout": {
        "height": 520,
        "legend": {
         "title": {
          "text": "Series"
         },
         "tracegroupgap": 0
        },
        "margin": {
         "b": 40,
         "l": 60,
         "r": 20,
         "t": 70
        },
        "template": {
         "data": {
          "bar": [
           {
            "error_x": {
             "color": "#2a3f5f"
            },
            "error_y": {
             "color": "#2a3f5f"
            },
            "marker": {
             "line": {
              "color": "#E5ECF6",
              "width": 0.5
             },
             "pattern": {
              "fillmode": "overlay",
              "size": 10,
              "solidity": 0.2
             }
            },
            "type": "bar"
           }
          ],
          "barpolar": [
           {
            "marker": {
             "line": {
              "color": "#E5ECF6",
              "width": 0.5
             },
             "pattern": {
              "fillmode": "overlay",
              "size": 10,
              "solidity": 0.2
             }
            },
            "type": "barpolar"
           }
          ],
          "carpet": [
           {
            "aaxis": {
             "endlinecolor": "#2a3f5f",
             "gridcolor": "white",
             "linecolor": "white",
             "minorgridcolor": "white",
             "startlinecolor": "#2a3f5f"
            },
            "baxis": {
             "endlinecolor": "#2a3f5f",
             "gridcolor": "white",
             "linecolor": "white",
             "minorgridcolor": "white",
             "startlinecolor": "#2a3f5f"
            },
            "type": "carpet"
           }
          ],
          "choropleth": [
           {
            "colorbar": {
             "outlinewidth": 0,
             "ticks": ""
            },
            "type": "choropleth"
           }
          ],
          "contour": [
           {
            "colorbar": {
             "outlinewidth": 0,
             "ticks": ""
            },
            "colorscale": [
             [
              0,
              "#0d0887"
             ],
             [
              0.1111111111111111,
              "#46039f"
             ],
             [
              0.2222222222222222,
              "#7201a8"
             ],
             [
              0.3333333333333333,
              "#9c179e"
             ],
             [
              0.4444444444444444,
              "#bd3786"
             ],
             [
              0.5555555555555556,
              "#d8576b"
             ],
             [
              0.6666666666666666,
              "#ed7953"
             ],
             [
              0.7777777777777778,
              "#fb9f3a"
             ],
             [
              0.8888888888888888,
              "#fdca26"
             ],
             [
              1,
              "#f0f921"
             ]
            ],
            "type": "contour"
           }
          ],
          "contourcarpet": [
           {
            "colorbar": {
             "outlinewidth": 0,
             "ticks": ""
            },
            "type": "contourcarpet"
           }
          ],
          "heatmap": [
           {
            "colorbar": {
             "outlinewidth": 0,
             "ticks": ""
            },
            "colorscale": [
             [
              0,
              "#0d0887"
             ],
             [
              0.1111111111111111,
              "#46039f"
             ],
             [
              0.2222222222222222,
              "#7201a8"
             ],
             [
              0.3333333333333333,
              "#9c179e"
             ],
             [
              0.4444444444444444,
              "#bd3786"
             ],
             [
              0.5555555555555556,
              "#d8576b"
             ],
             [
              0.6666666666666666,
              "#ed7953"
             ],
             [
              0.7777777777777778,
              "#fb9f3a"
             ],
             [
              0.8888888888888888,
              "#fdca26"
             ],
             [
              1,
              "#f0f921"
             ]
            ],
            "type": "heatmap"
           }
          ],
          "histogram": [
           {
            "marker": {
             "pattern": {
              "fillmode": "overlay",
              "size": 10,
              "solidity": 0.2
             }
            },
            "type": "histogram"
           }
          ],
          "histogram2d": [
           {
            "colorbar": {
             "outlinewidth": 0,
             "ticks": ""
            },
            "colorscale": [
             [
              0,
              "#0d0887"
             ],
             [
              0.1111111111111111,
              "#46039f"
             ],
             [
              0.2222222222222222,
              "#7201a8"
             ],
             [
              0.3333333333333333,
              "#9c179e"
             ],
             [
              0.4444444444444444,
              "#bd3786"
             ],
             [
              0.5555555555555556,
              "#d8576b"
             ],
             [
              0.6666666666666666,
              "#ed7953"
             ],
             [
              0.7777777777777778,
              "#fb9f3a"
             ],
             [
              0.8888888888888888,
              "#fdca26"
             ],
             [
              1,
              "#f0f921"
             ]
            ],
            "type": "histogram2d"
           }
          ],
          "histogram2dcontour": [
           {
            "colorbar": {
             "outlinewidth": 0,
             "ticks": ""
            },
            "colorscale": [
             [
              0,
              "#0d0887"
             ],
             [
              0.1111111111111111,
              "#46039f"
             ],
             [
              0.2222222222222222,
              "#7201a8"
             ],
             [
              0.3333333333333333,
              "#9c179e"
             ],
             [
              0.4444444444444444,
              "#bd3786"
             ],
             [
              0.5555555555555556,
              "#d8576b"
             ],
             [
              0.6666666666666666,
              "#ed7953"
             ],
             [
              0.7777777777777778,
              "#fb9f3a"
             ],
             [
              0.8888888888888888,
              "#fdca26"
             ],
             [
              1,
              "#f0f921"
             ]
            ],
            "type": "histogram2dcontour"
           }
          ],
          "mesh3d": [
           {
            "colorbar": {
             "outlinewidth": 0,
             "ticks": ""
            },
            "type": "mesh3d"
           }
          ],
          "parcoords": [
           {
            "line": {
             "colorbar": {
              "outlinewidth": 0,
              "ticks": ""
             }
            },
            "type": "parcoords"
           }
          ],
          "pie": [
           {
            "automargin": true,
            "type": "pie"
           }
          ],
          "scatter": [
           {
            "fillpattern": {
             "fillmode": "overlay",
             "size": 10,
             "solidity": 0.2
            },
            "type": "scatter"
           }
          ],
          "scatter3d": [
           {
            "line": {
             "colorbar": {
              "outlinewidth": 0,
              "ticks": ""
             }
            },
            "marker": {
             "colorbar": {
              "outlinewidth": 0,
              "ticks": ""
             }
            },
            "type": "scatter3d"
           }
          ],
          "scattercarpet": [
           {
            "marker": {
             "colorbar": {
              "outlinewidth": 0,
              "ticks": ""
             }
            },
            "type": "scattercarpet"
           }
          ],
          "scattergeo": [
           {
            "marker": {
             "colorbar": {
              "outlinewidth": 0,
              "ticks": ""
             }
            },
            "type": "scattergeo"
           }
          ],
          "scattergl": [
           {
            "marker": {
             "colorbar": {
              "outlinewidth": 0,
              "ticks": ""
             }
            },
            "type": "scattergl"
           }
          ],
          "scattermap": [
           {
            "marker": {
             "colorbar": {
              "outlinewidth": 0,
              "ticks": ""
             }
            },
            "type": "scattermap"
           }
          ],
          "scattermapbox": [
           {
            "marker": {
             "colorbar": {
              "outlinewidth": 0,
              "ticks": ""
             }
            },
            "type": "scattermapbox"
           }
          ],
          "scatterpolar": [
           {
            "marker": {
             "colorbar": {
              "outlinewidth": 0,
              "ticks": ""
             }
            },
            "type": "scatterpolar"
           }
          ],
          "scatterpolargl": [
           {
            "marker": {
             "colorbar": {
              "outlinewidth": 0,
              "ticks": ""
             }
            },
            "type": "scatterpolargl"
           }
          ],
          "scatterternary": [
           {
            "marker": {
             "colorbar": {
              "outlinewidth": 0,
              "ticks": ""
             }
            },
            "type": "scatterternary"
           }
          ],
          "surface": [
           {
            "colorbar": {
             "outlinewidth": 0,
             "ticks": ""
            },
            "colorscale": [
             [
              0,
              "#0d0887"
             ],
             [
              0.1111111111111111,
              "#46039f"
             ],
             [
              0.2222222222222222,
              "#7201a8"
             ],
             [
              0.3333333333333333,
              "#9c179e"
             ],
             [
              0.4444444444444444,
              "#bd3786"
             ],
             [
              0.5555555555555556,
              "#d8576b"
             ],
             [
              0.6666666666666666,
              "#ed7953"
             ],
             [
              0.7777777777777778,
              "#fb9f3a"
             ],
             [
              0.8888888888888888,
              "#fdca26"
             ],
             [
              1,
              "#f0f921"
             ]
            ],
            "type": "surface"
           }
          ],
          "table": [
           {
            "cells": {
             "fill": {
              "color": "#EBF0F8"
             },
             "line": {
              "color": "white"
             }
            },
            "header": {
             "fill": {
              "color": "#C8D4E3"
             },
             "line": {
              "color": "white"
             }
            },
            "type": "table"
           }
          ]
         },
         "layout": {
          "annotationdefaults": {
           "arrowcolor": "#2a3f5f",
           "arrowhead": 0,
           "arrowwidth": 1
          },
          "autotypenumbers": "strict",
          "coloraxis": {
           "colorbar": {
            "outlinewidth": 0,
            "ticks": ""
           }
          },
          "colorscale": {
           "diverging": [
            [
             0,
             "#8e0152"
            ],
            [
             0.1,
             "#c51b7d"
            ],
            [
             0.2,
             "#de77ae"
            ],
            [
             0.3,
             "#f1b6da"
            ],
            [
             0.4,
             "#fde0ef"
            ],
            [
             0.5,
             "#f7f7f7"
            ],
            [
             0.6,
             "#e6f5d0"
            ],
            [
             0.7,
             "#b8e186"
            ],
            [
             0.8,
             "#7fbc41"
            ],
            [
             0.9,
             "#4d9221"
            ],
            [
             1,
             "#276419"
            ]
           ],
           "sequential": [
            [
             0,
             "#0d0887"
            ],
            [
             0.1111111111111111,
             "#46039f"
            ],
            [
             0.2222222222222222,
             "#7201a8"
            ],
            [
             0.3333333333333333,
             "#9c179e"
            ],
            [
             0.4444444444444444,
             "#bd3786"
            ],
            [
             0.5555555555555556,
             "#d8576b"
            ],
            [
             0.6666666666666666,
             "#ed7953"
            ],
            [
             0.7777777777777778,
             "#fb9f3a"
            ],
            [
             0.8888888888888888,
             "#fdca26"
            ],
            [
             1,
             "#f0f921"
            ]
           ],
           "sequentialminus": [
            [
             0,
             "#0d0887"
            ],
            [
             0.1111111111111111,
             "#46039f"
            ],
            [
             0.2222222222222222,
             "#7201a8"
            ],
            [
             0.3333333333333333,
             "#9c179e"
            ],
            [
             0.4444444444444444,
             "#bd3786"
            ],
            [
             0.5555555555555556,
             "#d8576b"
            ],
            [
             0.6666666666666666,
             "#ed7953"
            ],
            [
             0.7777777777777778,
             "#fb9f3a"
            ],
            [
             0.8888888888888888,
             "#fdca26"
            ],
            [
             1,
             "#f0f921"
            ]
           ]
          },
          "colorway": [
           "#636efa",
           "#EF553B",
           "#00cc96",
           "#ab63fa",
           "#FFA15A",
           "#19d3f3",
           "#FF6692",
           "#B6E880",
           "#FF97FF",
           "#FECB52"
          ],
          "font": {
           "color": "#2a3f5f"
          },
          "geo": {
           "bgcolor": "white",
           "lakecolor": "white",
           "landcolor": "#E5ECF6",
           "showlakes": true,
           "showland": true,
           "subunitcolor": "white"
          },
          "hoverlabel": {
           "align": "left"
          },
          "hovermode": "closest",
          "mapbox": {
           "style": "light"
          },
          "paper_bgcolor": "white",
          "plot_bgcolor": "#E5ECF6",
          "polar": {
           "angularaxis": {
            "gridcolor": "white",
            "linecolor": "white",
            "ticks": ""
           },
           "bgcolor": "#E5ECF6",
           "radialaxis": {
            "gridcolor": "white",
            "linecolor": "white",
            "ticks": ""
           }
          },
          "scene": {
           "xaxis": {
            "backgroundcolor": "#E5ECF6",
            "gridcolor": "white",
            "gridwidth": 2,
            "linecolor": "white",
            "showbackground": true,
            "ticks": "",
            "zerolinecolor": "white"
           },
           "yaxis": {
            "backgroundcolor": "#E5ECF6",
            "gridcolor": "white",
            "gridwidth": 2,
            "linecolor": "white",
            "showbackground": true,
            "ticks": "",
            "zerolinecolor": "white"
           },
           "zaxis": {
            "backgroundcolor": "#E5ECF6",
            "gridcolor": "white",
            "gridwidth": 2,
            "linecolor": "white",
            "showbackground": true,
            "ticks": "",
            "zerolinecolor": "white"
           }
          },
          "shapedefaults": {
           "line": {
            "color": "#2a3f5f"
           }
          },
          "ternary": {
           "aaxis": {
            "gridcolor": "white",
            "linecolor": "white",
            "ticks": ""
           },
           "baxis": {
            "gridcolor": "white",
            "linecolor": "white",
            "ticks": ""
           },
           "bgcolor": "#E5ECF6",
           "caxis": {
            "gridcolor": "white",
            "linecolor": "white",
            "ticks": ""
           }
          },
          "title": {
           "x": 0.05
          },
          "xaxis": {
           "automargin": true,
           "gridcolor": "white",
           "linecolor": "white",
           "ticks": "",
           "title": {
            "standoff": 15
           },
           "zerolinecolor": "white",
           "zerolinewidth": 2
          },
          "yaxis": {
           "automargin": true,
           "gridcolor": "white",
           "linecolor": "white",
           "ticks": "",
           "title": {
            "standoff": 15
           },
           "zerolinecolor": "white",
           "zerolinewidth": 2
          }
         }
        },
        "title": {
         "text": "Bechdel Pass vs Oscar-Nominated Share by Decade"
        },
        "xaxis": {
         "anchor": "y",
         "domain": [
          0,
          1
         ],
         "title": {
          "text": "Decade"
         }
        },
        "yaxis": {
         "anchor": "x",
         "domain": [
          0,
          1
         ],
         "title": {
          "text": "Percent"
         }
        }
       }
      },
      "image/png": "[encoded data removed]"
     },
     "metadata": {},
     "output_type": "display_data"
    }
   ],
   "source": [
    "\n",
    "fig = px.line(\n",
    "    decade_stats, x=\"decade\", y=[\"pass_rate\",\"oscar_rate\"],\n",
    "    markers=True,\n",
    "    title=\"Bechdel Pass vs Oscar-Nominated Share by Decade\",\n",
    "    labels={\"decade\":\"Decade\",\"value\":\"Percent\",\"variable\":\"Series\"}\n",
    ")\n",
    "fig.update_layout(margin=dict(l=60,r=20,t=70,b=40), height=520)\n",
    "fig.show()\n",
    "\n",
    "#write_wp_snippet_plain(fig, \"01_line_chart.html\", \"01_line_chart\")"
   ]
  },
  {
   "cell_type": "code",
   "execution_count": 67,
   "id": "f68c8b24-f54c-45ec-bdf7-cc5577d3b415",
   "metadata": {},
   "outputs": [
    {
     "data": {
      "application/vnd.plotly.v1+json": {
       "config": {
        "plotlyServerURL": "https://plot.ly"
       },
       "data": [
        {
         "branchvalues": "total",
         "customdata": {
          "bdata": "VVVVVVVV1T+J2pWoXYnaP1VVVVVVVeU/cUfcEXfE3T8eHh4eHh6+PyivobyG8to/AAAAAAAA4D+rqqqqqqrmP3Icx3Ecx+E/O7ETO7ET2z+rqqqqqqrmP13XdV3Xdd0/Gb4RBSad2j8AAAAAAADkP0J7Ce0ltOc/L7rooosu2j/x8PDw8PDQP1VVVVVVVeU/5LJioIQ32j96nud5nufZP0/sxE7sxN4/3t3d3d3d1T8=",
          "dtype": "f8",
          "shape": "22, 1"
         },
         "domain": {
          "x": [
           0,
           1
          ],
          "y": [
           0,
           1
          ]
         },
         "hovertemplate": "labels=%{label}<br>film_count=%{value}<br>parent=%{parent}<br>id=%{id}<br>pass_pct=%{color}<extra></extra>",
         "ids": [
          "Castle Rock Entertainment",
          "Columbia Pictures",
          "Dimension Films",
          "DreamWorks",
          "DreamWorks Animation",
          "Focus Features",
          "Fox 2000 Pictures",
          "Fox Searchlight Pictures",
          "Lionsgate",
          "Metro-Goldwyn-Mayer (MGM)",
          "Miramax",
          "New Line Cinema",
          "Paramount Pictures",
          "Revolution Studios",
          "Screen Gems",
          "Summit Entertainment",
          "Touchstone Pictures",
          "TriStar Pictures",
          "Twentieth Century Fox",
          "Universal Pictures",
          "Walt Disney Pictures",
          "Warner Bros."
         ],
         "labels": [
          "Castle Rock Entertainment",
          "Columbia Pictures",
          "Dimension Films",
          "DreamWorks",
          "DreamWorks Animation",
          "Focus Features",
          "Fox 2000 Pictures",
          "Fox Searchlight Pictures",
          "Lionsgate",
          "Metro-Goldwyn-Mayer (MGM)",
          "Miramax",
          "New Line Cinema",
          "Paramount Pictures",
          "Revolution Studios",
          "Screen Gems",
          "Summit Entertainment",
          "Touchstone Pictures",
          "TriStar Pictures",
          "Twentieth Century Fox",
          "Universal Pictures",
          "Walt Disney Pictures",
          "Warner Bros."
         ],
         "marker": {
          "coloraxis": "coloraxis",
          "colors": {
           "bdata": "VVVVVVVV1T+J2pWoXYnaP1VVVVVVVeU/cUfcEXfE3T8eHh4eHh6+PyivobyG8to/AAAAAAAA4D+rqqqqqqrmP3Icx3Ecx+E/O7ETO7ET2z+rqqqqqqrmP13XdV3Xdd0/Gb4RBSad2j8AAAAAAADkP0J7Ce0ltOc/L7rooosu2j/x8PDw8PDQP1VVVVVVVeU/5LJioIQ32j96nud5nufZP0/sxE7sxN4/3t3d3d3d1T8=",
           "dtype": "f8"
          }
         },
         "name": "",
         "parents": [
          "",
          "",
          "",
          "",
          "",
          "",
          "",
          "",
          "",
          "",
          "",
          "",
          "",
          "",
          "",
          "",
          "",
          "",
          "",
          "",
          "",
          ""
         ],
         "type": "treemap",
         "values": {
          "bdata": "AAAAAAAALkAAAAAAAMBeQAAAAAAAADhAAAAAAACARUAAAAAAAAAxQAAAAAAAADNAAAAAAAAANkAAAAAAAAA4QAAAAAAAADJAAAAAAAAAOkAAAAAAAAA4QAAAAAAAgE9AAAAAAABAWUAAAAAAAAAwQAAAAAAAADtAAAAAAAAANkAAAAAAAABBQAAAAAAAADVAAAAAAADAVEAAAAAAAIBfQAAAAAAAAEpAAAAAAAAAXkA=",
          "dtype": "f8"
         }
        }
       ],
       "layout": {
        "coloraxis": {
         "colorbar": {
          "title": {
           "text": "pass_pct"
          }
         },
         "colorscale": [
          [
           0,
           "rgb(165,0,38)"
          ],
          [
           0.1,
           "rgb(215,48,39)"
          ],
          [
           0.2,
           "rgb(244,109,67)"
          ],
          [
           0.3,
           "rgb(253,174,97)"
          ],
          [
           0.4,
           "rgb(254,224,139)"
          ],
          [
           0.5,
           "rgb(255,255,191)"
          ],
          [
           0.6,
           "rgb(217,239,139)"
          ],
          [
           0.7,
           "rgb(166,217,106)"
          ],
          [
           0.8,
           "rgb(102,189,99)"
          ],
          [
           0.9,
           "rgb(26,152,80)"
          ],
          [
           1,
           "rgb(0,104,55)"
          ]
         ]
        },
        "height": 600,
        "legend": {
         "tracegroupgap": 0
        },
        "margin": {
         "b": 20,
         "l": 20,
         "r": 20,
         "t": 60
        },
        "template": {
         "data": {
          "bar": [
           {
            "error_x": {
             "color": "#2a3f5f"
            },
            "error_y": {
             "color": "#2a3f5f"
            },
            "marker": {
             "line": {
              "color": "#E5ECF6",
              "width": 0.5
             },
             "pattern": {
              "fillmode": "overlay",
              "size": 10,
              "solidity": 0.2
             }
            },
            "type": "bar"
           }
          ],
          "barpolar": [
           {
            "marker": {
             "line": {
              "color": "#E5ECF6",
              "width": 0.5
             },
             "pattern": {
              "fillmode": "overlay",
              "size": 10,
              "solidity": 0.2
             }
            },
            "type": "barpolar"
           }
          ],
          "carpet": [
           {
            "aaxis": {
             "endlinecolor": "#2a3f5f",
             "gridcolor": "white",
             "linecolor": "white",
             "minorgridcolor": "white",
             "startlinecolor": "#2a3f5f"
            },
            "baxis": {
             "endlinecolor": "#2a3f5f",
             "gridcolor": "white",
             "linecolor": "white",
             "minorgridcolor": "white",
             "startlinecolor": "#2a3f5f"
            },
            "type": "carpet"
           }
          ],
          "choropleth": [
           {
            "colorbar": {
             "outlinewidth": 0,
             "ticks": ""
            },
            "type": "choropleth"
           }
          ],
          "contour": [
           {
            "colorbar": {
             "outlinewidth": 0,
             "ticks": ""
            },
            "colorscale": [
             [
              0,
              "#0d0887"
             ],
             [
              0.1111111111111111,
              "#46039f"
             ],
             [
              0.2222222222222222,
              "#7201a8"
             ],
             [
              0.3333333333333333,
              "#9c179e"
             ],
             [
              0.4444444444444444,
              "#bd3786"
             ],
             [
              0.5555555555555556,
              "#d8576b"
             ],
             [
              0.6666666666666666,
              "#ed7953"
             ],
             [
              0.7777777777777778,
              "#fb9f3a"
             ],
             [
              0.8888888888888888,
              "#fdca26"
             ],
             [
              1,
              "#f0f921"
             ]
            ],
            "type": "contour"
           }
          ],
          "contourcarpet": [
           {
            "colorbar": {
             "outlinewidth": 0,
             "ticks": ""
            },
            "type": "contourcarpet"
           }
          ],
          "heatmap": [
           {
            "colorbar": {
             "outlinewidth": 0,
             "ticks": ""
            },
            "colorscale": [
             [
              0,
              "#0d0887"
             ],
             [
              0.1111111111111111,
              "#46039f"
             ],
             [
              0.2222222222222222,
              "#7201a8"
             ],
             [
              0.3333333333333333,
              "#9c179e"
             ],
             [
              0.4444444444444444,
              "#bd3786"
             ],
             [
              0.5555555555555556,
              "#d8576b"
             ],
             [
              0.6666666666666666,
              "#ed7953"
             ],
             [
              0.7777777777777778,
              "#fb9f3a"
             ],
             [
              0.8888888888888888,
              "#fdca26"
             ],
             [
              1,
              "#f0f921"
             ]
            ],
            "type": "heatmap"
           }
          ],
          "histogram": [
           {
            "marker": {
             "pattern": {
              "fillmode": "overlay",
              "size": 10,
              "solidity": 0.2
             }
            },
            "type": "histogram"
           }
          ],
          "histogram2d": [
           {
            "colorbar": {
             "outlinewidth": 0,
             "ticks": ""
            },
            "colorscale": [
             [
              0,
              "#0d0887"
             ],
             [
              0.1111111111111111,
              "#46039f"
             ],
             [
              0.2222222222222222,
              "#7201a8"
             ],
             [
              0.3333333333333333,
              "#9c179e"
             ],
             [
              0.4444444444444444,
              "#bd3786"
             ],
             [
              0.5555555555555556,
              "#d8576b"
             ],
             [
              0.6666666666666666,
              "#ed7953"
             ],
             [
              0.7777777777777778,
              "#fb9f3a"
             ],
             [
              0.8888888888888888,
              "#fdca26"
             ],
             [
              1,
              "#f0f921"
             ]
            ],
            "type": "histogram2d"
           }
          ],
          "histogram2dcontour": [
           {
            "colorbar": {
             "outlinewidth": 0,
             "ticks": ""
            },
            "colorscale": [
             [
              0,
              "#0d0887"
             ],
             [
              0.1111111111111111,
              "#46039f"
             ],
             [
              0.2222222222222222,
              "#7201a8"
             ],
             [
              0.3333333333333333,
              "#9c179e"
             ],
             [
              0.4444444444444444,
              "#bd3786"
             ],
             [
              0.5555555555555556,
              "#d8576b"
             ],
             [
              0.6666666666666666,
              "#ed7953"
             ],
             [
              0.7777777777777778,
              "#fb9f3a"
             ],
             [
              0.8888888888888888,
              "#fdca26"
             ],
             [
              1,
              "#f0f921"
             ]
            ],
            "type": "histogram2dcontour"
           }
          ],
          "mesh3d": [
           {
            "colorbar": {
             "outlinewidth": 0,
             "ticks": ""
            },
            "type": "mesh3d"
           }
          ],
          "parcoords": [
           {
            "line": {
             "colorbar": {
              "outlinewidth": 0,
              "ticks": ""
             }
            },
            "type": "parcoords"
           }
          ],
          "pie": [
           {
            "automargin": true,
            "type": "pie"
           }
          ],
          "scatter": [
           {
            "fillpattern": {
             "fillmode": "overlay",
             "size": 10,
             "solidity": 0.2
            },
            "type": "scatter"
           }
          ],
          "scatter3d": [
           {
            "line": {
             "colorbar": {
              "outlinewidth": 0,
              "ticks": ""
             }
            },
            "marker": {
             "colorbar": {
              "outlinewidth": 0,
              "ticks": ""
             }
            },
            "type": "scatter3d"
           }
          ],
          "scattercarpet": [
           {
            "marker": {
             "colorbar": {
              "outlinewidth": 0,
              "ticks": ""
             }
            },
            "type": "scattercarpet"
           }
          ],
          "scattergeo": [
           {
            "marker": {
             "colorbar": {
              "outlinewidth": 0,
              "ticks": ""
             }
            },
            "type": "scattergeo"
           }
          ],
          "scattergl": [
           {
            "marker": {
             "colorbar": {
              "outlinewidth": 0,
              "ticks": ""
             }
            },
            "type": "scattergl"
           }
          ],
          "scattermap": [
           {
            "marker": {
             "colorbar": {
              "outlinewidth": 0,
              "ticks": ""
             }
            },
            "type": "scattermap"
           }
          ],
          "scattermapbox": [
           {
            "marker": {
             "colorbar": {
              "outlinewidth": 0,
              "ticks": ""
             }
            },
            "type": "scattermapbox"
           }
          ],
          "scatterpolar": [
           {
            "marker": {
             "colorbar": {
              "outlinewidth": 0,
              "ticks": ""
             }
            },
            "type": "scatterpolar"
           }
          ],
          "scatterpolargl": [
           {
            "marker": {
             "colorbar": {
              "outlinewidth": 0,
              "ticks": ""
             }
            },
            "type": "scatterpolargl"
           }
          ],
          "scatterternary": [
           {
            "marker": {
             "colorbar": {
              "outlinewidth": 0,
              "ticks": ""
             }
            },
            "type": "scatterternary"
           }
          ],
          "surface": [
           {
            "colorbar": {
             "outlinewidth": 0,
             "ticks": ""
            },
            "colorscale": [
             [
              0,
              "#0d0887"
             ],
             [
              0.1111111111111111,
              "#46039f"
             ],
             [
              0.2222222222222222,
              "#7201a8"
             ],
             [
              0.3333333333333333,
              "#9c179e"
             ],
             [
              0.4444444444444444,
              "#bd3786"
             ],
             [
              0.5555555555555556,
              "#d8576b"
             ],
             [
              0.6666666666666666,
              "#ed7953"
             ],
             [
              0.7777777777777778,
              "#fb9f3a"
             ],
             [
              0.8888888888888888,
              "#fdca26"
             ],
             [
              1,
              "#f0f921"
             ]
            ],
            "type": "surface"
           }
          ],
          "table": [
           {
            "cells": {
             "fill": {
              "color": "#EBF0F8"
             },
             "line": {
              "color": "white"
             }
            },
            "header": {
             "fill": {
              "color": "#C8D4E3"
             },
             "line": {
              "color": "white"
             }
            },
            "type": "table"
           }
          ]
         },
         "layout": {
          "annotationdefaults": {
           "arrowcolor": "#2a3f5f",
           "arrowhead": 0,
           "arrowwidth": 1
          },
          "autotypenumbers": "strict",
          "coloraxis": {
           "colorbar": {
            "outlinewidth": 0,
            "ticks": ""
           }
          },
          "colorscale": {
           "diverging": [
            [
             0,
             "#8e0152"
            ],
            [
             0.1,
             "#c51b7d"
            ],
            [
             0.2,
             "#de77ae"
            ],
            [
             0.3,
             "#f1b6da"
            ],
            [
             0.4,
             "#fde0ef"
            ],
            [
             0.5,
             "#f7f7f7"
            ],
            [
             0.6,
             "#e6f5d0"
            ],
            [
             0.7,
             "#b8e186"
            ],
            [
             0.8,
             "#7fbc41"
            ],
            [
             0.9,
             "#4d9221"
            ],
            [
             1,
             "#276419"
            ]
           ],
           "sequential": [
            [
             0,
             "#0d0887"
            ],
            [
             0.1111111111111111,
             "#46039f"
            ],
            [
             0.2222222222222222,
             "#7201a8"
            ],
            [
             0.3333333333333333,
             "#9c179e"
            ],
            [
             0.4444444444444444,
             "#bd3786"
            ],
            [
             0.5555555555555556,
             "#d8576b"
            ],
            [
             0.6666666666666666,
             "#ed7953"
            ],
            [
             0.7777777777777778,
             "#fb9f3a"
            ],
            [
             0.8888888888888888,
             "#fdca26"
            ],
            [
             1,
             "#f0f921"
            ]
           ],
           "sequentialminus": [
            [
             0,
             "#0d0887"
            ],
            [
             0.1111111111111111,
             "#46039f"
            ],
            [
             0.2222222222222222,
             "#7201a8"
            ],
            [
             0.3333333333333333,
             "#9c179e"
            ],
            [
             0.4444444444444444,
             "#bd3786"
            ],
            [
             0.5555555555555556,
             "#d8576b"
            ],
            [
             0.6666666666666666,
             "#ed7953"
            ],
            [
             0.7777777777777778,
             "#fb9f3a"
            ],
            [
             0.8888888888888888,
             "#fdca26"
            ],
            [
             1,
             "#f0f921"
            ]
           ]
          },
          "colorway": [
           "#636efa",
           "#EF553B",
           "#00cc96",
           "#ab63fa",
           "#FFA15A",
           "#19d3f3",
           "#FF6692",
           "#B6E880",
           "#FF97FF",
           "#FECB52"
          ],
          "font": {
           "color": "#2a3f5f"
          },
          "geo": {
           "bgcolor": "white",
           "lakecolor": "white",
           "landcolor": "#E5ECF6",
           "showlakes": true,
           "showland": true,
           "subunitcolor": "white"
          },
          "hoverlabel": {
           "align": "left"
          },
          "hovermode": "closest",
          "mapbox": {
           "style": "light"
          },
          "paper_bgcolor": "white",
          "plot_bgcolor": "#E5ECF6",
          "polar": {
           "angularaxis": {
            "gridcolor": "white",
            "linecolor": "white",
            "ticks": ""
           },
           "bgcolor": "#E5ECF6",
           "radialaxis": {
            "gridcolor": "white",
            "linecolor": "white",
            "ticks": ""
           }
          },
          "scene": {
           "xaxis": {
            "backgroundcolor": "#E5ECF6",
            "gridcolor": "white",
            "gridwidth": 2,
            "linecolor": "white",
            "showbackground": true,
            "ticks": "",
            "zerolinecolor": "white"
           },
           "yaxis": {
            "backgroundcolor": "#E5ECF6",
            "gridcolor": "white",
            "gridwidth": 2,
            "linecolor": "white",
            "showbackground": true,
            "ticks": "",
            "zerolinecolor": "white"
           },
           "zaxis": {
            "backgroundcolor": "#E5ECF6",
            "gridcolor": "white",
            "gridwidth": 2,
            "linecolor": "white",
            "showbackground": true,
            "ticks": "",
            "zerolinecolor": "white"
           }
          },
          "shapedefaults": {
           "line": {
            "color": "#2a3f5f"
           }
          },
          "ternary": {
           "aaxis": {
            "gridcolor": "white",
            "linecolor": "white",
            "ticks": ""
           },
           "baxis": {
            "gridcolor": "white",
            "linecolor": "white",
            "ticks": ""
           },
           "bgcolor": "#E5ECF6",
           "caxis": {
            "gridcolor": "white",
            "linecolor": "white",
            "ticks": ""
           }
          },
          "title": {
           "x": 0.05
          },
          "xaxis": {
           "automargin": true,
           "gridcolor": "white",
           "linecolor": "white",
           "ticks": "",
           "title": {
            "standoff": 15
           },
           "zerolinecolor": "white",
           "zerolinewidth": 2
          },
          "yaxis": {
           "automargin": true,
           "gridcolor": "white",
           "linecolor": "white",
           "ticks": "",
           "title": {
            "standoff": 15
           },
           "zerolinecolor": "white",
           "zerolinewidth": 2
          }
         }
        },
        "title": {
         "text": "Major Studios Ranked by Bechdel Pass Rate"
        }
       }
      },
      "image/png": "[encoded data removed]"
     },
     "metadata": {},
     "output_type": "display_data"
    },
    {
     "name": "stdout",
     "output_type": "stream",
     "text": [
      "Wrote: 02_tree_map.html\n"
     ]
    }
   ],
   "source": [
    "studio_pass = (\n",
    "    df.groupby(\"production_company\")\n",
    "      .agg(pass_pct=(\"bechdel_pass_bin\",\"mean\"), film_count=(\"title\",\"count\"))\n",
    "      .reset_index()\n",
    ")\n",
    "\n",
    "studio_pass = studio_pass[studio_pass[\"film_count\"] >= 15]  # filter small studios\n",
    "\n",
    "fig = px.treemap(\n",
    "    studio_pass,\n",
    "    path=[\"production_company\"],\n",
    "    values=\"film_count\",\n",
    "    color=\"pass_pct\",\n",
    "    color_continuous_scale=\"RdYlGn\",\n",
    "    title=\"Major Studios Ranked by Bechdel Pass Rate\"\n",
    ")\n",
    "fig.update_layout(margin=dict(l=20,r=20,t=60,b=20), height=600)\n",
    "fig.show()\n",
    "write_wp_snippet_plain(fig, \"02_tree_map.html\", \"02_tree_map.html\")"
   ]
  },
  {
   "cell_type": "code",
   "execution_count": 53,
   "id": "44c42fc6-09ca-4e4c-8833-1c94d695ea00",
   "metadata": {},
   "outputs": [],
   "source": [
    "studio_metrics = (\n",
    "    df.groupby(\"production_company\")\n",
    "      .agg(\n",
    "          film_count=(\"title\", \"count\"),\n",
    "          pass_rate=(\"bechdel_pass_bin\", \"mean\"),\n",
    "          nom_rate=(\"osc_nominations\", lambda x: (x > 0).mean()),\n",
    "          win_rate=(\"osc_wins\", lambda x: (x > 0).mean())\n",
    "      )\n",
    "      .reset_index()\n",
    ")\n",
    "\n",
    "studio_metrics[\"pass_rate\"] *= 100\n",
    "studio_metrics[\"nom_rate\"] *= 100\n",
    "studio_metrics[\"win_rate\"] *= 100\n"
   ]
  },
  {
   "cell_type": "code",
   "execution_count": null,
   "id": "03648037-910a-42e1-8ecf-e98d6f010655",
   "metadata": {},
   "outputs": [],
   "source": [
    "import pandas as pd\n",
    "import numpy as np\n",
    "\n",
    "title_col = \"title\" if \"title\" in df.columns else (\"original_title\" if \"original_title\" in df.columns else \"imdb_title_id\")\n",
    "prod_col  = \"production_company\" if \"production_company\" in df.columns else \"production_company_norm\"\n",
    "\n",
    "studio_metrics = (\n",
    "    df.dropna(subset=[prod_col])\n",
    "      .groupby(prod_col)\n",
    "      .agg(\n",
    "          film_count=(title_col, \"count\"),\n",
    "          pass_rate=(\"bechdel_pass_bin\", \"mean\"),\n",
    "          nom_rate=(\"_osc_noms_num\", lambda x: (x > 0).mean()),\n",
    "          win_rate=(\"_osc_wins_num\",  lambda x: (x > 0).mean()),\n",
    "          avg_wins=(\"_osc_wins_num\", \"mean\")\n",
    "      )\n",
    "      .reset_index()\n",
    "      .rename(columns={prod_col: \"production_company\"})\n",
    ")\n",
    "\n",
    "studio_metrics[\"pass_rate\"] = (studio_metrics[\"pass_rate\"]*100).round(2)\n",
    "studio_metrics[\"nom_rate\"]  = (studio_metrics[\"nom_rate\"]*100).round(2)\n",
    "studio_metrics[\"win_rate\"]  = (studio_metrics[\"win_rate\"]*100).round(2)\n"
   ]
  },
  {
   "cell_type": "code",
   "execution_count": 68,
   "id": "d7f0d6a0-986d-4245-872d-139c46b4af60",
   "metadata": {},
   "outputs": [
    {
     "data": {
      "application/vnd.plotly.v1+json": {
       "config": {
        "plotlyServerURL": "https://plot.ly"
       },
       "data": [
        {
         "customdata": {
          "bdata": "AAAAAAAAIkAAAAAAAAAAAAAAAAAAAAAAAAAAAAAAOEAAAAAAAAAAAAAAAAAAAAAAAAAAAAAAKEAAAAAAAAAAAAAAAAAAAAAAAAAAAACARUAAAAAAAAAAAAAAAAAAAAAAAAAAAABAWUAAAAAAAAAAAAAAAAAAAAAAAAAAAAAAXkAAAAAAAAAAAAAAAAAAAAAAAAAAAACAX0AAAAAAAAAAAAAAAAAAAAAAAAAAAACAT0AAAAAAAAAAAAAAAAAAAAAAAAAAAADAVEAAAAAAAAAAAAAAAAAAAAAAAAAAAAAANkAAAAAAAAAAAAAAAAAAAAAAAAAAAAAANkAAAAAAAAAAAAAAAAAAAAAAAAAAAAAASkAAAAAAAAAAAAAAAAAAAAAAAAAAAAAAJEAAAAAAAAAAAAAAAAAAAAAAAAAAAAAAOEAAAAAAAAAAAAAAAAAAAAAAAAAAAAAANUAAAAAAAAAAAAAAAAAAAAAAAAAAAAAAQUAAAAAAAAAAAAAAAAAAAAAAAAAAAAAAJkAAAAAAAAAAAAAAAAAAAAAAAAAAAAAAO0AAAAAAAAAAAAAAAAAAAAAAAAAAAAAAOEAAAAAAAAAAAAAAAAAAAAAAAAAAAAAAMEAAAAAAAAAAAAAAAAAAAAAA",
          "dtype": "f8",
          "shape": "20, 3"
         },
         "hovertemplate": "production_company=%{x}<br>nom_rate=%{y}<br>film_count=%{customdata[0]}<br>win_rate=%{customdata[1]}<br>avg_wins=%{customdata[2]}<br>pass_rate=%{marker.color}<extra></extra>",
         "legendgroup": "",
         "marker": {
          "color": {
           "bdata": "uB6F61E4NkCF61G4HrVRQArXo3A9Kk1A4XoUrkdBR0AK16NwPcpEQPYoXI/CFUFAPQrXo3A9RECkcD0K1wNHQHsUrkfhekRAAAAAAAAASUAUrkfhenREQArXo3A9CkhAAAAAAAAATkB7FK5H4apQQHsUrkfhqlBAuB6F61F4OkCuR+F6FC5CQBSuR+F6hFJAhetRuB61UUAAAAAAAEBPQA==",
           "dtype": "f8"
          },
          "coloraxis": "coloraxis",
          "pattern": {
           "shape": ""
          }
         },
         "name": "",
         "orientation": "v",
         "showlegend": false,
         "textposition": "auto",
         "type": "bar",
         "x": [
          "Regency Enterprises",
          "Miramax",
          "United Artists",
          "DreamWorks",
          "Paramount Pictures",
          "Warner Bros.",
          "Universal Pictures",
          "New Line Cinema",
          "Twentieth Century Fox",
          "Fox 2000 Pictures",
          "Summit Entertainment",
          "Walt Disney Pictures",
          "Walt Disney Animation Studios",
          "Dimension Films",
          "TriStar Pictures",
          "Touchstone Pictures",
          "The Weinstein Company",
          "Screen Gems",
          "Fox Searchlight Pictures",
          "Revolution Studios"
         ],
         "xaxis": "x",
         "y": {
          "bdata": "uB6F61E4JkApXI/C9aggQClcj8L1qCBAmpmZmZmZEkDD9Shcj8IHQAAAAAAAAARACtejcD0KA0BxPQrXo3D5PzMzMzMzM/M/AAAAAAAAAAAAAAAAAAAAAAAAAAAAAAAAAAAAAAAAAAAAAAAAAAAAAAAAAAAAAAAAAAAAAAAAAAAAAAAAAAAAAAAAAAAAAAAAAAAAAAAAAAAAAAAAAAAAAA==",
          "dtype": "f8"
         },
         "yaxis": "y"
        }
       ],
       "layout": {
        "barmode": "relative",
        "coloraxis": {
         "colorbar": {
          "title": {
           "text": "pass_rate"
          }
         },
         "colorscale": [
          [
           0,
           "rgb(165,0,38)"
          ],
          [
           0.1,
           "rgb(215,48,39)"
          ],
          [
           0.2,
           "rgb(244,109,67)"
          ],
          [
           0.3,
           "rgb(253,174,97)"
          ],
          [
           0.4,
           "rgb(254,224,139)"
          ],
          [
           0.5,
           "rgb(255,255,191)"
          ],
          [
           0.6,
           "rgb(217,239,139)"
          ],
          [
           0.7,
           "rgb(166,217,106)"
          ],
          [
           0.8,
           "rgb(102,189,99)"
          ],
          [
           0.9,
           "rgb(26,152,80)"
          ],
          [
           1,
           "rgb(0,104,55)"
          ]
         ]
        },
        "height": 540,
        "legend": {
         "tracegroupgap": 0
        },
        "margin": {
         "b": 90,
         "l": 60,
         "r": 20,
         "t": 70
        },
        "template": {
         "data": {
          "bar": [
           {
            "error_x": {
             "color": "#2a3f5f"
            },
            "error_y": {
             "color": "#2a3f5f"
            },
            "marker": {
             "line": {
              "color": "#E5ECF6",
              "width": 0.5
             },
             "pattern": {
              "fillmode": "overlay",
              "size": 10,
              "solidity": 0.2
             }
            },
            "type": "bar"
           }
          ],
          "barpolar": [
           {
            "marker": {
             "line": {
              "color": "#E5ECF6",
              "width": 0.5
             },
             "pattern": {
              "fillmode": "overlay",
              "size": 10,
              "solidity": 0.2
             }
            },
            "type": "barpolar"
           }
          ],
          "carpet": [
           {
            "aaxis": {
             "endlinecolor": "#2a3f5f",
             "gridcolor": "white",
             "linecolor": "white",
             "minorgridcolor": "white",
             "startlinecolor": "#2a3f5f"
            },
            "baxis": {
             "endlinecolor": "#2a3f5f",
             "gridcolor": "white",
             "linecolor": "white",
             "minorgridcolor": "white",
             "startlinecolor": "#2a3f5f"
            },
            "type": "carpet"
           }
          ],
          "choropleth": [
           {
            "colorbar": {
             "outlinewidth": 0,
             "ticks": ""
            },
            "type": "choropleth"
           }
          ],
          "contour": [
           {
            "colorbar": {
             "outlinewidth": 0,
             "ticks": ""
            },
            "colorscale": [
             [
              0,
              "#0d0887"
             ],
             [
              0.1111111111111111,
              "#46039f"
             ],
             [
              0.2222222222222222,
              "#7201a8"
             ],
             [
              0.3333333333333333,
              "#9c179e"
             ],
             [
              0.4444444444444444,
              "#bd3786"
             ],
             [
              0.5555555555555556,
              "#d8576b"
             ],
             [
              0.6666666666666666,
              "#ed7953"
             ],
             [
              0.7777777777777778,
              "#fb9f3a"
             ],
             [
              0.8888888888888888,
              "#fdca26"
             ],
             [
              1,
              "#f0f921"
             ]
            ],
            "type": "contour"
           }
          ],
          "contourcarpet": [
           {
            "colorbar": {
             "outlinewidth": 0,
             "ticks": ""
            },
            "type": "contourcarpet"
           }
          ],
          "heatmap": [
           {
            "colorbar": {
             "outlinewidth": 0,
             "ticks": ""
            },
            "colorscale": [
             [
              0,
              "#0d0887"
             ],
             [
              0.1111111111111111,
              "#46039f"
             ],
             [
              0.2222222222222222,
              "#7201a8"
             ],
             [
              0.3333333333333333,
              "#9c179e"
             ],
             [
              0.4444444444444444,
              "#bd3786"
             ],
             [
              0.5555555555555556,
              "#d8576b"
             ],
             [
              0.6666666666666666,
              "#ed7953"
             ],
             [
              0.7777777777777778,
              "#fb9f3a"
             ],
             [
              0.8888888888888888,
              "#fdca26"
             ],
             [
              1,
              "#f0f921"
             ]
            ],
            "type": "heatmap"
           }
          ],
          "histogram": [
           {
            "marker": {
             "pattern": {
              "fillmode": "overlay",
              "size": 10,
              "solidity": 0.2
             }
            },
            "type": "histogram"
           }
          ],
          "histogram2d": [
           {
            "colorbar": {
             "outlinewidth": 0,
             "ticks": ""
            },
            "colorscale": [
             [
              0,
              "#0d0887"
             ],
             [
              0.1111111111111111,
              "#46039f"
             ],
             [
              0.2222222222222222,
              "#7201a8"
             ],
             [
              0.3333333333333333,
              "#9c179e"
             ],
             [
              0.4444444444444444,
              "#bd3786"
             ],
             [
              0.5555555555555556,
              "#d8576b"
             ],
             [
              0.6666666666666666,
              "#ed7953"
             ],
             [
              0.7777777777777778,
              "#fb9f3a"
             ],
             [
              0.8888888888888888,
              "#fdca26"
             ],
             [
              1,
              "#f0f921"
             ]
            ],
            "type": "histogram2d"
           }
          ],
          "histogram2dcontour": [
           {
            "colorbar": {
             "outlinewidth": 0,
             "ticks": ""
            },
            "colorscale": [
             [
              0,
              "#0d0887"
             ],
             [
              0.1111111111111111,
              "#46039f"
             ],
             [
              0.2222222222222222,
              "#7201a8"
             ],
             [
              0.3333333333333333,
              "#9c179e"
             ],
             [
              0.4444444444444444,
              "#bd3786"
             ],
             [
              0.5555555555555556,
              "#d8576b"
             ],
             [
              0.6666666666666666,
              "#ed7953"
             ],
             [
              0.7777777777777778,
              "#fb9f3a"
             ],
             [
              0.8888888888888888,
              "#fdca26"
             ],
             [
              1,
              "#f0f921"
             ]
            ],
            "type": "histogram2dcontour"
           }
          ],
          "mesh3d": [
           {
            "colorbar": {
             "outlinewidth": 0,
             "ticks": ""
            },
            "type": "mesh3d"
           }
          ],
          "parcoords": [
           {
            "line": {
             "colorbar": {
              "outlinewidth": 0,
              "ticks": ""
             }
            },
            "type": "parcoords"
           }
          ],
          "pie": [
           {
            "automargin": true,
            "type": "pie"
           }
          ],
          "scatter": [
           {
            "fillpattern": {
             "fillmode": "overlay",
             "size": 10,
             "solidity": 0.2
            },
            "type": "scatter"
           }
          ],
          "scatter3d": [
           {
            "line": {
             "colorbar": {
              "outlinewidth": 0,
              "ticks": ""
             }
            },
            "marker": {
             "colorbar": {
              "outlinewidth": 0,
              "ticks": ""
             }
            },
            "type": "scatter3d"
           }
          ],
          "scattercarpet": [
           {
            "marker": {
             "colorbar": {
              "outlinewidth": 0,
              "ticks": ""
             }
            },
            "type": "scattercarpet"
           }
          ],
          "scattergeo": [
           {
            "marker": {
             "colorbar": {
              "outlinewidth": 0,
              "ticks": ""
             }
            },
            "type": "scattergeo"
           }
          ],
          "scattergl": [
           {
            "marker": {
             "colorbar": {
              "outlinewidth": 0,
              "ticks": ""
             }
            },
            "type": "scattergl"
           }
          ],
          "scattermap": [
           {
            "marker": {
             "colorbar": {
              "outlinewidth": 0,
              "ticks": ""
             }
            },
            "type": "scattermap"
           }
          ],
          "scattermapbox": [
           {
            "marker": {
             "colorbar": {
              "outlinewidth": 0,
              "ticks": ""
             }
            },
            "type": "scattermapbox"
           }
          ],
          "scatterpolar": [
           {
            "marker": {
             "colorbar": {
              "outlinewidth": 0,
              "ticks": ""
             }
            },
            "type": "scatterpolar"
           }
          ],
          "scatterpolargl": [
           {
            "marker": {
             "colorbar": {
              "outlinewidth": 0,
              "ticks": ""
             }
            },
            "type": "scatterpolargl"
           }
          ],
          "scatterternary": [
           {
            "marker": {
             "colorbar": {
              "outlinewidth": 0,
              "ticks": ""
             }
            },
            "type": "scatterternary"
           }
          ],
          "surface": [
           {
            "colorbar": {
             "outlinewidth": 0,
             "ticks": ""
            },
            "colorscale": [
             [
              0,
              "#0d0887"
             ],
             [
              0.1111111111111111,
              "#46039f"
             ],
             [
              0.2222222222222222,
              "#7201a8"
             ],
             [
              0.3333333333333333,
              "#9c179e"
             ],
             [
              0.4444444444444444,
              "#bd3786"
             ],
             [
              0.5555555555555556,
              "#d8576b"
             ],
             [
              0.6666666666666666,
              "#ed7953"
             ],
             [
              0.7777777777777778,
              "#fb9f3a"
             ],
             [
              0.8888888888888888,
              "#fdca26"
             ],
             [
              1,
              "#f0f921"
             ]
            ],
            "type": "surface"
           }
          ],
          "table": [
           {
            "cells": {
             "fill": {
              "color": "#EBF0F8"
             },
             "line": {
              "color": "white"
             }
            },
            "header": {
             "fill": {
              "color": "#C8D4E3"
             },
             "line": {
              "color": "white"
             }
            },
            "type": "table"
           }
          ]
         },
         "layout": {
          "annotationdefaults": {
           "arrowcolor": "#2a3f5f",
           "arrowhead": 0,
           "arrowwidth": 1
          },
          "autotypenumbers": "strict",
          "coloraxis": {
           "colorbar": {
            "outlinewidth": 0,
            "ticks": ""
           }
          },
          "colorscale": {
           "diverging": [
            [
             0,
             "#8e0152"
            ],
            [
             0.1,
             "#c51b7d"
            ],
            [
             0.2,
             "#de77ae"
            ],
            [
             0.3,
             "#f1b6da"
            ],
            [
             0.4,
             "#fde0ef"
            ],
            [
             0.5,
             "#f7f7f7"
            ],
            [
             0.6,
             "#e6f5d0"
            ],
            [
             0.7,
             "#b8e186"
            ],
            [
             0.8,
             "#7fbc41"
            ],
            [
             0.9,
             "#4d9221"
            ],
            [
             1,
             "#276419"
            ]
           ],
           "sequential": [
            [
             0,
             "#0d0887"
            ],
            [
             0.1111111111111111,
             "#46039f"
            ],
            [
             0.2222222222222222,
             "#7201a8"
            ],
            [
             0.3333333333333333,
             "#9c179e"
            ],
            [
             0.4444444444444444,
             "#bd3786"
            ],
            [
             0.5555555555555556,
             "#d8576b"
            ],
            [
             0.6666666666666666,
             "#ed7953"
            ],
            [
             0.7777777777777778,
             "#fb9f3a"
            ],
            [
             0.8888888888888888,
             "#fdca26"
            ],
            [
             1,
             "#f0f921"
            ]
           ],
           "sequentialminus": [
            [
             0,
             "#0d0887"
            ],
            [
             0.1111111111111111,
             "#46039f"
            ],
            [
             0.2222222222222222,
             "#7201a8"
            ],
            [
             0.3333333333333333,
             "#9c179e"
            ],
            [
             0.4444444444444444,
             "#bd3786"
            ],
            [
             0.5555555555555556,
             "#d8576b"
            ],
            [
             0.6666666666666666,
             "#ed7953"
            ],
            [
             0.7777777777777778,
             "#fb9f3a"
            ],
            [
             0.8888888888888888,
             "#fdca26"
            ],
            [
             1,
             "#f0f921"
            ]
           ]
          },
          "colorway": [
           "#636efa",
           "#EF553B",
           "#00cc96",
           "#ab63fa",
           "#FFA15A",
           "#19d3f3",
           "#FF6692",
           "#B6E880",
           "#FF97FF",
           "#FECB52"
          ],
          "font": {
           "color": "#2a3f5f"
          },
          "geo": {
           "bgcolor": "white",
           "lakecolor": "white",
           "landcolor": "#E5ECF6",
           "showlakes": true,
           "showland": true,
           "subunitcolor": "white"
          },
          "hoverlabel": {
           "align": "left"
          },
          "hovermode": "closest",
          "mapbox": {
           "style": "light"
          },
          "paper_bgcolor": "white",
          "plot_bgcolor": "#E5ECF6",
          "polar": {
           "angularaxis": {
            "gridcolor": "white",
            "linecolor": "white",
            "ticks": ""
           },
           "bgcolor": "#E5ECF6",
           "radialaxis": {
            "gridcolor": "white",
            "linecolor": "white",
            "ticks": ""
           }
          },
          "scene": {
           "xaxis": {
            "backgroundcolor": "#E5ECF6",
            "gridcolor": "white",
            "gridwidth": 2,
            "linecolor": "white",
            "showbackground": true,
            "ticks": "",
            "zerolinecolor": "white"
           },
           "yaxis": {
            "backgroundcolor": "#E5ECF6",
            "gridcolor": "white",
            "gridwidth": 2,
            "linecolor": "white",
            "showbackground": true,
            "ticks": "",
            "zerolinecolor": "white"
           },
           "zaxis": {
            "backgroundcolor": "#E5ECF6",
            "gridcolor": "white",
            "gridwidth": 2,
            "linecolor": "white",
            "showbackground": true,
            "ticks": "",
            "zerolinecolor": "white"
           }
          },
          "shapedefaults": {
           "line": {
            "color": "#2a3f5f"
           }
          },
          "ternary": {
           "aaxis": {
            "gridcolor": "white",
            "linecolor": "white",
            "ticks": ""
           },
           "baxis": {
            "gridcolor": "white",
            "linecolor": "white",
            "ticks": ""
           },
           "bgcolor": "#E5ECF6",
           "caxis": {
            "gridcolor": "white",
            "linecolor": "white",
            "ticks": ""
           }
          },
          "title": {
           "x": 0.05
          },
          "xaxis": {
           "automargin": true,
           "gridcolor": "white",
           "linecolor": "white",
           "ticks": "",
           "title": {
            "standoff": 15
           },
           "zerolinecolor": "white",
           "zerolinewidth": 2
          },
          "yaxis": {
           "automargin": true,
           "gridcolor": "white",
           "linecolor": "white",
           "ticks": "",
           "title": {
            "standoff": 15
           },
           "zerolinecolor": "white",
           "zerolinewidth": 2
          }
         }
        },
        "title": {
         "text": "Studios with the Highest Share of Oscar-Nominated Films (min 8 films)"
        },
        "xaxis": {
         "anchor": "y",
         "domain": [
          0,
          1
         ],
         "tickangle": 45,
         "title": {
          "text": "Studio"
         }
        },
        "yaxis": {
         "anchor": "x",
         "domain": [
          0,
          1
         ],
         "rangemode": "tozero",
         "ticksuffix": "%",
         "title": {
          "text": "% Nominated"
         }
        }
       }
      },
      "image/png": "[encoded data removed]"
     },
     "metadata": {},
     "output_type": "display_data"
    },
    {
     "name": "stdout",
     "output_type": "stream",
     "text": [
      "Wrote: 03_bar_chart.html\n"
     ]
    }
   ],
   "source": [
    "import plotly.express as px\n",
    "\n",
    "top20 = (studio_metrics\n",
    "         .query(\"film_count >= 8\")\n",
    "         .sort_values(\"nom_rate\", ascending=False)\n",
    "         .head(20))\n",
    "\n",
    "fig2 = px.bar(\n",
    "    top20,\n",
    "    x=\"production_company\", y=\"nom_rate\",\n",
    "    color=\"pass_rate\", color_continuous_scale=\"RdYlGn\",\n",
    "    hover_data=[\"film_count\",\"win_rate\",\"avg_wins\"],\n",
    "    title=\"Studios with the Highest Share of Oscar-Nominated Films (min 8 films)\"\n",
    ")\n",
    "fig2.update_layout(\n",
    "    xaxis_title=\"Studio\", yaxis_title=\"% Nominated\",\n",
    "    yaxis=dict(ticksuffix=\"%\", rangemode=\"tozero\"),\n",
    "    xaxis_tickangle=45, height=540,\n",
    "    margin=dict(l=60,r=20,t=70,b=90)\n",
    ")\n",
    "fig2.show()\n",
    "write_wp_snippet_plain(fig2, \"03_bar_chart.html\", \"03_bar_chart.html\")"
   ]
  },
  {
   "cell_type": "code",
   "execution_count": null,
   "id": "0197d5e9-95c9-4c60-a8eb-d6d338c05b9c",
   "metadata": {},
   "outputs": [
    {
     "data": {
      "application/vnd.plotly.v1+json": {
       "config": {
        "plotlyServerURL": "https://plot.ly"
       },
       "data": [
        {
         "customdata": {
          "bdata": "AAAAAAAAHEB9fh9HcZopQAAAAAAAABRAnnWAoA4pEEAAAAAAAAAcQFqa7GMXgBRAAAAAAAAALkBcEp9uD0sNQAAAAAAAwF5AvSQCescVJUAAAAAAAAA4QJhWh52wTxVAAAAAAAAAGEDFs4qJ7YAUQAAAAAAAgEVAxJyVogEkFkAAAAAAAAAxQF0gn9CYBxZAAAAAAAAAGEATjg3jmrUPQAAAAAAAABRAtsxhuGAwQUAAAAAAAAAzQCfYsEnkVRtAAAAAAAAANkCiE9dJ/IwTQAAAAAAAADhATTZxMl7VMkAAAAAAAAAUQBzIKdXZwCBAAAAAAAAAFECWoNBUjXMPQAAAAAAAADJAtAKfmgjyE0AAAAAAAAAYQHPOek1uc0FAAAAAAAAAOkBHo0/EEaMVQAAAAAAAADhA2H0LDfSAGkAAAAAAAIBPQNMji8KpWhZAAAAAAABAWUCO63JK2x8nQAAAAAAAABxALgSojfzuHUAAAAAAAAAgQE6m8WmVVyVAAAAAAAAAIkDoC7IhpSISQAAAAAAAACBACg7YDKYbFkAAAAAAAAAwQKxNtANcsgxAAAAAAAAAHEAqYhegj0YaQAAAAAAAADtAcR69jyhiGEAAAAAAAAAUQBKBML1z6SJAAAAAAAAANkCxH7We4tggQAAAAAAAACZAnb2dEEjtF0AAAAAAAABBQIuOnr+xqxlAAAAAAAAANUAJvkEnCNkUQAAAAAAAwFRAWaJAsMmNKkAAAAAAAAAUQGr7bETcLB9AAAAAAAAAKEAOI5HLM9wgQAAAAAAAgF9AeVdJsZONJEAAAAAAAAAkQC0c7yPV6g5AAAAAAAAASkDf0ZcXseYaQAAAAAAAAF5AdOvzFjwlFUA=",
          "dtype": "f8",
          "shape": "41, 2"
         },
         "hovertemplate": "<b>%{hovertext}</b><br><br>pass_rate_pct=%{marker.color:.1f}<br>avg_roi_ws=%{y:.1f}<br>film_count=%{customdata[0]}<br>avg_roi=%{customdata[1]:.1f}<extra></extra>",
         "hovertext": [
          "Alcon Entertainment",
          "BBC Films",
          "CBS Films",
          "Castle Rock Entertainment",
          "Columbia Pictures",
          "Dimension Films",
          "Dino De Laurentiis Company",
          "DreamWorks",
          "DreamWorks Animation",
          "EuropaCorp",
          "FilmDistrict",
          "Focus Features",
          "Fox 2000 Pictures",
          "Fox Searchlight Pictures",
          "Hollywood Pictures",
          "Lions Gate Films",
          "Lionsgate",
          "Lucasfilm",
          "Metro-Goldwyn-Mayer (MGM)",
          "Miramax",
          "New Line Cinema",
          "Paramount Pictures",
          "Paramount Vantage",
          "Pixar Animation Studios",
          "Regency Enterprises",
          "Relativity Media",
          "Revolution Studios",
          "Rogue Pictures",
          "Screen Gems",
          "StudioCanal",
          "Summit Entertainment",
          "The Weinstein Company",
          "Touchstone Pictures",
          "TriStar Pictures",
          "Twentieth Century Fox",
          "Twentieth Century Fox Animation",
          "United Artists",
          "Universal Pictures",
          "Walt Disney Animation Studios",
          "Walt Disney Pictures",
          "Warner Bros."
         ],
         "legendgroup": "",
         "marker": {
          "color": {
           "bdata": "rkfhehRuRUAAAAAAAABOQBSuR+F6lCxACtejcD2qQEB7FK5H4bpEQHsUrkfhqlBAAAAAAAAASUDhehSuR0FHQIXrUbgehSdACtejcD2qQEAAAAAAAABEQK5H4XoUDkVAAAAAAAAASUCF61G4HrVRQAAAAAAAAERAAAAAAAAATkBI4XoUrsdLQOxRuB6FqzBASOF6FK4nRUCF61G4HrVRQKRwPQrXA0dACtejcD3KREBSuB6F65FMQAAAAAAAADlAuB6F61E4NkAAAAAAAAA5QAAAAAAAQE9AUrgeheuRTEAUrkfheoRSQAAAAAAAAERAFK5H4Xp0RECuR+F6FC5CQLgehetReDpAexSuR+GqUEB7FK5H4XpEQAAAAAAAADRACtejcD0qTUA9CtejcD1EQAAAAAAAAE5ACtejcD0KSED2KFyPwhVBQA==",
           "dtype": "f8"
          },
          "coloraxis": "coloraxis",
          "line": {
           "width": 0
          },
          "opacity": 0.7,
          "size": {
           "bdata": "BwUHD3sYBisRBgUTFhgFBRIGGhg/ZQcICQgQBxsFFgsiFVMFDH4KNHg=",
           "dtype": "i1"
          },
          "sizemode": "area",
          "sizeref": 0.315,
          "symbol": "circle"
         },
         "mode": "markers",
         "name": "",
         "orientation": "v",
         "showlegend": false,
         "type": "scatter",
         "x": {
          "bdata": "rkfhehRuRUAAAAAAAABOQBSuR+F6lCxACtejcD2qQEB7FK5H4bpEQHsUrkfhqlBAAAAAAAAASUDhehSuR0FHQIXrUbgehSdACtejcD2qQEAAAAAAAABEQK5H4XoUDkVAAAAAAAAASUCF61G4HrVRQAAAAAAAAERAAAAAAAAATkBI4XoUrsdLQOxRuB6FqzBASOF6FK4nRUCF61G4HrVRQKRwPQrXA0dACtejcD3KREBSuB6F65FMQAAAAAAAADlAuB6F61E4NkAAAAAAAAA5QAAAAAAAQE9AUrgeheuRTEAUrkfheoRSQAAAAAAAAERAFK5H4Xp0RECuR+F6FC5CQLgehetReDpAexSuR+GqUEB7FK5H4XpEQAAAAAAAADRACtejcD0qTUA9CtejcD1EQAAAAAAAAE5ACtejcD0KSED2KFyPwhVBQA==",
          "dtype": "f8"
         },
         "xaxis": "x",
         "y": {
          "bdata": "fX4fR3GaKUCedYCgDikQQFqa7GMXgBRAXBKfbg9LDUC9JAJ6xxUlQJhWh52wTxVAxbOKie2AFEDEnJWiASQWQF0gn9CYBxZAE44N45q1D0C2zGG4YDBBQCfYsEnkVRtAohPXSfyME0BNNnEyXtUyQBzIKdXZwCBAlqDQVI1zD0C0Ap+aCPITQCg01xGcWEFAR6NPxBGjFUDYfQsN9IAaQNMji8KpWhZAjutyStsfJ0AuBKiN/O4dQE6m8WmVVyVA6AuyIaUiEkAKDtgMphsWQL8C35Rw7wxAKmIXoI9GGkBxHr2PKGIYQBKBML1z6SJAsR+1nuLYIECdvZ0QSO0XQIuOnr+xqxlACb5BJwjZFEBZokCwyY0qQGr7bETcLB9ADiORyzPcIEB5V0mxk40kQC0c7yPV6g5A39GXF7HmGkB06/MWPCUVQA==",
          "dtype": "f8"
         },
         "yaxis": "y"
        }
       ],
       "layout": {
        "coloraxis": {
         "colorbar": {
          "title": {
           "text": "pass_rate_pct"
          }
         },
         "colorscale": [
          [
           0,
           "#0d0887"
          ],
          [
           0.1111111111111111,
           "#46039f"
          ],
          [
           0.2222222222222222,
           "#7201a8"
          ],
          [
           0.3333333333333333,
           "#9c179e"
          ],
          [
           0.4444444444444444,
           "#bd3786"
          ],
          [
           0.5555555555555556,
           "#d8576b"
          ],
          [
           0.6666666666666666,
           "#ed7953"
          ],
          [
           0.7777777777777778,
           "#fb9f3a"
          ],
          [
           0.8888888888888888,
           "#fdca26"
          ],
          [
           1,
           "#f0f921"
          ]
         ]
        },
        "height": 520,
        "legend": {
         "itemsizing": "constant",
         "tracegroupgap": 0
        },
        "margin": {
         "b": 50,
         "l": 60,
         "r": 20,
         "t": 70
        },
        "showlegend": false,
        "template": {
         "data": {
          "bar": [
           {
            "error_x": {
             "color": "#2a3f5f"
            },
            "error_y": {
             "color": "#2a3f5f"
            },
            "marker": {
             "line": {
              "color": "#E5ECF6",
              "width": 0.5
             },
             "pattern": {
              "fillmode": "overlay",
              "size": 10,
              "solidity": 0.2
             }
            },
            "type": "bar"
           }
          ],
          "barpolar": [
           {
            "marker": {
             "line": {
              "color": "#E5ECF6",
              "width": 0.5
             },
             "pattern": {
              "fillmode": "overlay",
              "size": 10,
              "solidity": 0.2
             }
            },
            "type": "barpolar"
           }
          ],
          "carpet": [
           {
            "aaxis": {
             "endlinecolor": "#2a3f5f",
             "gridcolor": "white",
             "linecolor": "white",
             "minorgridcolor": "white",
             "startlinecolor": "#2a3f5f"
            },
            "baxis": {
             "endlinecolor": "#2a3f5f",
             "gridcolor": "white",
             "linecolor": "white",
             "minorgridcolor": "white",
             "startlinecolor": "#2a3f5f"
            },
            "type": "carpet"
           }
          ],
          "choropleth": [
           {
            "colorbar": {
             "outlinewidth": 0,
             "ticks": ""
            },
            "type": "choropleth"
           }
          ],
          "contour": [
           {
            "colorbar": {
             "outlinewidth": 0,
             "ticks": ""
            },
            "colorscale": [
             [
              0,
              "#0d0887"
             ],
             [
              0.1111111111111111,
              "#46039f"
             ],
             [
              0.2222222222222222,
              "#7201a8"
             ],
             [
              0.3333333333333333,
              "#9c179e"
             ],
             [
              0.4444444444444444,
              "#bd3786"
             ],
             [
              0.5555555555555556,
              "#d8576b"
             ],
             [
              0.6666666666666666,
              "#ed7953"
             ],
             [
              0.7777777777777778,
              "#fb9f3a"
             ],
             [
              0.8888888888888888,
              "#fdca26"
             ],
             [
              1,
              "#f0f921"
             ]
            ],
            "type": "contour"
           }
          ],
          "contourcarpet": [
           {
            "colorbar": {
             "outlinewidth": 0,
             "ticks": ""
            },
            "type": "contourcarpet"
           }
          ],
          "heatmap": [
           {
            "colorbar": {
             "outlinewidth": 0,
             "ticks": ""
            },
            "colorscale": [
             [
              0,
              "#0d0887"
             ],
             [
              0.1111111111111111,
              "#46039f"
             ],
             [
              0.2222222222222222,
              "#7201a8"
             ],
             [
              0.3333333333333333,
              "#9c179e"
             ],
             [
              0.4444444444444444,
              "#bd3786"
             ],
             [
              0.5555555555555556,
              "#d8576b"
             ],
             [
              0.6666666666666666,
              "#ed7953"
             ],
             [
              0.7777777777777778,
              "#fb9f3a"
             ],
             [
              0.8888888888888888,
              "#fdca26"
             ],
             [
              1,
              "#f0f921"
             ]
            ],
            "type": "heatmap"
           }
          ],
          "histogram": [
           {
            "marker": {
             "pattern": {
              "fillmode": "overlay",
              "size": 10,
              "solidity": 0.2
             }
            },
            "type": "histogram"
           }
          ],
          "histogram2d": [
           {
            "colorbar": {
             "outlinewidth": 0,
             "ticks": ""
            },
            "colorscale": [
             [
              0,
              "#0d0887"
             ],
             [
              0.1111111111111111,
              "#46039f"
             ],
             [
              0.2222222222222222,
              "#7201a8"
             ],
             [
              0.3333333333333333,
              "#9c179e"
             ],
             [
              0.4444444444444444,
              "#bd3786"
             ],
             [
              0.5555555555555556,
              "#d8576b"
             ],
             [
              0.6666666666666666,
              "#ed7953"
             ],
             [
              0.7777777777777778,
              "#fb9f3a"
             ],
             [
              0.8888888888888888,
              "#fdca26"
             ],
             [
              1,
              "#f0f921"
             ]
            ],
            "type": "histogram2d"
           }
          ],
          "histogram2dcontour": [
           {
            "colorbar": {
             "outlinewidth": 0,
             "ticks": ""
            },
            "colorscale": [
             [
              0,
              "#0d0887"
             ],
             [
              0.1111111111111111,
              "#46039f"
             ],
             [
              0.2222222222222222,
              "#7201a8"
             ],
             [
              0.3333333333333333,
              "#9c179e"
             ],
             [
              0.4444444444444444,
              "#bd3786"
             ],
             [
              0.5555555555555556,
              "#d8576b"
             ],
             [
              0.6666666666666666,
              "#ed7953"
             ],
             [
              0.7777777777777778,
              "#fb9f3a"
             ],
             [
              0.8888888888888888,
              "#fdca26"
             ],
             [
              1,
              "#f0f921"
             ]
            ],
            "type": "histogram2dcontour"
           }
          ],
          "mesh3d": [
           {
            "colorbar": {
             "outlinewidth": 0,
             "ticks": ""
            },
            "type": "mesh3d"
           }
          ],
          "parcoords": [
           {
            "line": {
             "colorbar": {
              "outlinewidth": 0,
              "ticks": ""
             }
            },
            "type": "parcoords"
           }
          ],
          "pie": [
           {
            "automargin": true,
            "type": "pie"
           }
          ],
          "scatter": [
           {
            "fillpattern": {
             "fillmode": "overlay",
             "size": 10,
             "solidity": 0.2
            },
            "type": "scatter"
           }
          ],
          "scatter3d": [
           {
            "line": {
             "colorbar": {
              "outlinewidth": 0,
              "ticks": ""
             }
            },
            "marker": {
             "colorbar": {
              "outlinewidth": 0,
              "ticks": ""
             }
            },
            "type": "scatter3d"
           }
          ],
          "scattercarpet": [
           {
            "marker": {
             "colorbar": {
              "outlinewidth": 0,
              "ticks": ""
             }
            },
            "type": "scattercarpet"
           }
          ],
          "scattergeo": [
           {
            "marker": {
             "colorbar": {
              "outlinewidth": 0,
              "ticks": ""
             }
            },
            "type": "scattergeo"
           }
          ],
          "scattergl": [
           {
            "marker": {
             "colorbar": {
              "outlinewidth": 0,
              "ticks": ""
             }
            },
            "type": "scattergl"
           }
          ],
          "scattermap": [
           {
            "marker": {
             "colorbar": {
              "outlinewidth": 0,
              "ticks": ""
             }
            },
            "type": "scattermap"
           }
          ],
          "scattermapbox": [
           {
            "marker": {
             "colorbar": {
              "outlinewidth": 0,
              "ticks": ""
             }
            },
            "type": "scattermapbox"
           }
          ],
          "scatterpolar": [
           {
            "marker": {
             "colorbar": {
              "outlinewidth": 0,
              "ticks": ""
             }
            },
            "type": "scatterpolar"
           }
          ],
          "scatterpolargl": [
           {
            "marker": {
             "colorbar": {
              "outlinewidth": 0,
              "ticks": ""
             }
            },
            "type": "scatterpolargl"
           }
          ],
          "scatterternary": [
           {
            "marker": {
             "colorbar": {
              "outlinewidth": 0,
              "ticks": ""
             }
            },
            "type": "scatterternary"
           }
          ],
          "surface": [
           {
            "colorbar": {
             "outlinewidth": 0,
             "ticks": ""
            },
            "colorscale": [
             [
              0,
              "#0d0887"
             ],
             [
              0.1111111111111111,
              "#46039f"
             ],
             [
              0.2222222222222222,
              "#7201a8"
             ],
             [
              0.3333333333333333,
              "#9c179e"
             ],
             [
              0.4444444444444444,
              "#bd3786"
             ],
             [
              0.5555555555555556,
              "#d8576b"
             ],
             [
              0.6666666666666666,
              "#ed7953"
             ],
             [
              0.7777777777777778,
              "#fb9f3a"
             ],
             [
              0.8888888888888888,
              "#fdca26"
             ],
             [
              1,
              "#f0f921"
             ]
            ],
            "type": "surface"
           }
          ],
          "table": [
           {
            "cells": {
             "fill": {
              "color": "#EBF0F8"
             },
             "line": {
              "color": "white"
             }
            },
            "header": {
             "fill": {
              "color": "#C8D4E3"
             },
             "line": {
              "color": "white"
             }
            },
            "type": "table"
           }
          ]
         },
         "layout": {
          "annotationdefaults": {
           "arrowcolor": "#2a3f5f",
           "arrowhead": 0,
           "arrowwidth": 1
          },
          "autotypenumbers": "strict",
          "coloraxis": {
           "colorbar": {
            "outlinewidth": 0,
            "ticks": ""
           }
          },
          "colorscale": {
           "diverging": [
            [
             0,
             "#8e0152"
            ],
            [
             0.1,
             "#c51b7d"
            ],
            [
             0.2,
             "#de77ae"
            ],
            [
             0.3,
             "#f1b6da"
            ],
            [
             0.4,
             "#fde0ef"
            ],
            [
             0.5,
             "#f7f7f7"
            ],
            [
             0.6,
             "#e6f5d0"
            ],
            [
             0.7,
             "#b8e186"
            ],
            [
             0.8,
             "#7fbc41"
            ],
            [
             0.9,
             "#4d9221"
            ],
            [
             1,
             "#276419"
            ]
           ],
           "sequential": [
            [
             0,
             "#0d0887"
            ],
            [
             0.1111111111111111,
             "#46039f"
            ],
            [
             0.2222222222222222,
             "#7201a8"
            ],
            [
             0.3333333333333333,
             "#9c179e"
            ],
            [
             0.4444444444444444,
             "#bd3786"
            ],
            [
             0.5555555555555556,
             "#d8576b"
            ],
            [
             0.6666666666666666,
             "#ed7953"
            ],
            [
             0.7777777777777778,
             "#fb9f3a"
            ],
            [
             0.8888888888888888,
             "#fdca26"
            ],
            [
             1,
             "#f0f921"
            ]
           ],
           "sequentialminus": [
            [
             0,
             "#0d0887"
            ],
            [
             0.1111111111111111,
             "#46039f"
            ],
            [
             0.2222222222222222,
             "#7201a8"
            ],
            [
             0.3333333333333333,
             "#9c179e"
            ],
            [
             0.4444444444444444,
             "#bd3786"
            ],
            [
             0.5555555555555556,
             "#d8576b"
            ],
            [
             0.6666666666666666,
             "#ed7953"
            ],
            [
             0.7777777777777778,
             "#fb9f3a"
            ],
            [
             0.8888888888888888,
             "#fdca26"
            ],
            [
             1,
             "#f0f921"
            ]
           ]
          },
          "colorway": [
           "#636efa",
           "#EF553B",
           "#00cc96",
           "#ab63fa",
           "#FFA15A",
           "#19d3f3",
           "#FF6692",
           "#B6E880",
           "#FF97FF",
           "#FECB52"
          ],
          "font": {
           "color": "#2a3f5f"
          },
          "geo": {
           "bgcolor": "white",
           "lakecolor": "white",
           "landcolor": "#E5ECF6",
           "showlakes": true,
           "showland": true,
           "subunitcolor": "white"
          },
          "hoverlabel": {
           "align": "left"
          },
          "hovermode": "closest",
          "mapbox": {
           "style": "light"
          },
          "paper_bgcolor": "white",
          "plot_bgcolor": "#E5ECF6",
          "polar": {
           "angularaxis": {
            "gridcolor": "white",
            "linecolor": "white",
            "ticks": ""
           },
           "bgcolor": "#E5ECF6",
           "radialaxis": {
            "gridcolor": "white",
            "linecolor": "white",
            "ticks": ""
           }
          },
          "scene": {
           "xaxis": {
            "backgroundcolor": "#E5ECF6",
            "gridcolor": "white",
            "gridwidth": 2,
            "linecolor": "white",
            "showbackground": true,
            "ticks": "",
            "zerolinecolor": "white"
           },
           "yaxis": {
            "backgroundcolor": "#E5ECF6",
            "gridcolor": "white",
            "gridwidth": 2,
            "linecolor": "white",
            "showbackground": true,
            "ticks": "",
            "zerolinecolor": "white"
           },
           "zaxis": {
            "backgroundcolor": "#E5ECF6",
            "gridcolor": "white",
            "gridwidth": 2,
            "linecolor": "white",
            "showbackground": true,
            "ticks": "",
            "zerolinecolor": "white"
           }
          },
          "shapedefaults": {
           "line": {
            "color": "#2a3f5f"
           }
          },
          "ternary": {
           "aaxis": {
            "gridcolor": "white",
            "linecolor": "white",
            "ticks": ""
           },
           "baxis": {
            "gridcolor": "white",
            "linecolor": "white",
            "ticks": ""
           },
           "bgcolor": "#E5ECF6",
           "caxis": {
            "gridcolor": "white",
            "linecolor": "white",
            "ticks": ""
           }
          },
          "title": {
           "x": 0.05
          },
          "xaxis": {
           "automargin": true,
           "gridcolor": "white",
           "linecolor": "white",
           "ticks": "",
           "title": {
            "standoff": 15
           },
           "zerolinecolor": "white",
           "zerolinewidth": 2
          },
          "yaxis": {
           "automargin": true,
           "gridcolor": "white",
           "linecolor": "white",
           "ticks": "",
           "title": {
            "standoff": 15
           },
           "zerolinecolor": "white",
           "zerolinewidth": 2
          }
         }
        },
        "title": {
         "text": "Studios: Bechdel Pass Rate vs Average ROI (winsorized)"
        },
        "xaxis": {
         "anchor": "y",
         "domain": [
          0,
          1
         ],
         "title": {
          "text": "Bechdel Pass Rate (%)"
         }
        },
        "yaxis": {
         "anchor": "x",
         "domain": [
          0,
          1
         ],
         "title": {
          "text": "Average ROI (winsorized 1–99%)"
         }
        }
       }
      },
      "image/png": "[encoded data removed]"
     },
     "metadata": {},
     "output_type": "display_data"
    },
    {
     "name": "stdout",
     "output_type": "stream",
     "text": [
      "Wrote: wp_snippets/04_scatter_roi_clean.html\n"
     ]
    }
   ],
   "source": [
    "\n",
    "title_col = \"title\" if \"title\" in df.columns else (\"original_title\" if \"original_title\" in df.columns else \"imdb_title_id\")\n",
    "prod_col  = \"production_company\" if \"production_company\" in df.columns else \"production_company_norm\"\n",
    "\n",
    "studio_roi = (\n",
    "    df.dropna(subset=[prod_col])\n",
    "      .groupby(prod_col)\n",
    "      .agg(\n",
    "          film_count=(title_col, \"count\"),\n",
    "          pass_rate=(\"bechdel_pass_bin\", \"mean\"),\n",
    "          avg_roi=(\"_roi\", \"mean\")\n",
    "      )\n",
    "      .reset_index()\n",
    "      .rename(columns={prod_col: \"production_company\"})\n",
    ")\n",
    "\n",
    "# percentages\n",
    "studio_roi[\"pass_rate_pct\"] = (studio_roi[\"pass_rate\"]*100).round(2)\n",
    "\n",
    "# filter + winsorize ROI to tame extreme values\n",
    "plot_df = studio_roi.dropna(subset=[\"avg_roi\"]).query(\"film_count >= 5\").copy()\n",
    "q1, q99 = plot_df[\"avg_roi\"].quantile([0.01, 0.99])\n",
    "plot_df[\"avg_roi_ws\"] = plot_df[\"avg_roi\"].clip(q1, q99)\n",
    "\n",
    "# scatter (no text labels; hover only)\n",
    "fig = px.scatter(\n",
    "    plot_df,\n",
    "    x=\"pass_rate_pct\", y=\"avg_roi_ws\",\n",
    "    size=\"film_count\", color=\"pass_rate_pct\",\n",
    "    color_continuous_scale=\"Plasma\",\n",
    "    hover_name=\"production_company\",\n",
    "    hover_data={\"film_count\":True, \"avg_roi\":\":.1f\", \"avg_roi_ws\":\":.1f\", \"pass_rate_pct\":\":.1f\"},\n",
    "    title=\"Studios: Bechdel Pass Rate vs Average ROI (winsorized)\"\n",
    ")\n",
    "fig.update_traces(marker=dict(opacity=0.7, line=dict(width=0)))\n",
    "fig.update_layout(\n",
    "    xaxis_title=\"Bechdel Pass Rate (%)\",\n",
    "    yaxis_title=\"Average ROI (winsorized 1–99%)\",\n",
    "    margin=dict(l=60,r=20,t=70,b=50),\n",
    "    height=520,\n",
    "    showlegend=False\n",
    ")\n",
    "\n",
    "\n",
    "fig.show()\n",
    "\n",
    "write_wp_snippet_plain(fig, \"wp_snippets/04_scatter_roi_clean.html\", \"scatter-roi-clean\")\n"
   ]
  },
  {
   "cell_type": "code",
   "execution_count": null,
   "id": "d89f1e1e-9388-40bc-aa88-3816db544b63",
   "metadata": {},
   "outputs": [
    {
     "data": {
      "application/vnd.plotly.v1+json": {
       "config": {
        "plotlyServerURL": "https://plot.ly"
       },
       "data": [
        {
         "hovertemplate": "pass_pct=%{marker.color}<br>genre=%{theta}<extra></extra>",
         "legendgroup": "",
         "marker": {
          "color": {
           "bdata": "L7rooouuTkCtG0yRz7pNQOYUvJyCl01AR5v3KS4ZTUBH6faV1btIQLvssssuu0hArRnqzpqhSEBfQnsJ7SVHQM5u4VdjIkdAAAAAAAAAREBreGf0Uv1CQKuqqqqq6kFA",
           "dtype": "f8"
          },
          "coloraxis": "coloraxis",
          "pattern": {
           "shape": ""
          }
         },
         "name": "",
         "r": {
          "bdata": "L7rooouuTkCtG0yRz7pNQOYUvJyCl01AR5v3KS4ZTUBH6faV1btIQLvssssuu0hArRnqzpqhSEBfQnsJ7SVHQM5u4VdjIkdAAAAAAAAAREBreGf0Uv1CQKuqqqqq6kFA",
          "dtype": "f8"
         },
         "showlegend": false,
         "subplot": "polar",
         "theta": [
          "Music",
          "Romance",
          "Horror",
          "Family",
          "Drama",
          "Biography",
          "Comedy",
          "Mystery",
          "Fantasy",
          "History",
          "Thriller",
          "Animation"
         ],
         "type": "barpolar"
        }
       ],
       "layout": {
        "barmode": "relative",
        "coloraxis": {
         "colorbar": {
          "title": {
           "text": "pass_pct"
          }
         },
         "colorscale": [
          [
           0,
           "rgb(0,0,255)"
          ],
          [
           1,
           "rgb(255,0,0)"
          ]
         ]
        },
        "height": 560,
        "legend": {
         "tracegroupgap": 0
        },
        "margin": {
         "b": 40,
         "l": 40,
         "r": 40,
         "t": 80
        },
        "polar": {
         "angularaxis": {
          "direction": "clockwise",
          "rotation": 90
         },
         "domain": {
          "x": [
           0,
           1
          ],
          "y": [
           0,
           1
          ]
         }
        },
        "template": {
         "data": {
          "bar": [
           {
            "error_x": {
             "color": "#2a3f5f"
            },
            "error_y": {
             "color": "#2a3f5f"
            },
            "marker": {
             "line": {
              "color": "#E5ECF6",
              "width": 0.5
             },
             "pattern": {
              "fillmode": "overlay",
              "size": 10,
              "solidity": 0.2
             }
            },
            "type": "bar"
           }
          ],
          "barpolar": [
           {
            "marker": {
             "line": {
              "color": "#E5ECF6",
              "width": 0.5
             },
             "pattern": {
              "fillmode": "overlay",
              "size": 10,
              "solidity": 0.2
             }
            },
            "type": "barpolar"
           }
          ],
          "carpet": [
           {
            "aaxis": {
             "endlinecolor": "#2a3f5f",
             "gridcolor": "white",
             "linecolor": "white",
             "minorgridcolor": "white",
             "startlinecolor": "#2a3f5f"
            },
            "baxis": {
             "endlinecolor": "#2a3f5f",
             "gridcolor": "white",
             "linecolor": "white",
             "minorgridcolor": "white",
             "startlinecolor": "#2a3f5f"
            },
            "type": "carpet"
           }
          ],
          "choropleth": [
           {
            "colorbar": {
             "outlinewidth": 0,
             "ticks": ""
            },
            "type": "choropleth"
           }
          ],
          "contour": [
           {
            "colorbar": {
             "outlinewidth": 0,
             "ticks": ""
            },
            "colorscale": [
             [
              0,
              "#0d0887"
             ],
             [
              0.1111111111111111,
              "#46039f"
             ],
             [
              0.2222222222222222,
              "#7201a8"
             ],
             [
              0.3333333333333333,
              "#9c179e"
             ],
             [
              0.4444444444444444,
              "#bd3786"
             ],
             [
              0.5555555555555556,
              "#d8576b"
             ],
             [
              0.6666666666666666,
              "#ed7953"
             ],
             [
              0.7777777777777778,
              "#fb9f3a"
             ],
             [
              0.8888888888888888,
              "#fdca26"
             ],
             [
              1,
              "#f0f921"
             ]
            ],
            "type": "contour"
           }
          ],
          "contourcarpet": [
           {
            "colorbar": {
             "outlinewidth": 0,
             "ticks": ""
            },
            "type": "contourcarpet"
           }
          ],
          "heatmap": [
           {
            "colorbar": {
             "outlinewidth": 0,
             "ticks": ""
            },
            "colorscale": [
             [
              0,
              "#0d0887"
             ],
             [
              0.1111111111111111,
              "#46039f"
             ],
             [
              0.2222222222222222,
              "#7201a8"
             ],
             [
              0.3333333333333333,
              "#9c179e"
             ],
             [
              0.4444444444444444,
              "#bd3786"
             ],
             [
              0.5555555555555556,
              "#d8576b"
             ],
             [
              0.6666666666666666,
              "#ed7953"
             ],
             [
              0.7777777777777778,
              "#fb9f3a"
             ],
             [
              0.8888888888888888,
              "#fdca26"
             ],
             [
              1,
              "#f0f921"
             ]
            ],
            "type": "heatmap"
           }
          ],
          "histogram": [
           {
            "marker": {
             "pattern": {
              "fillmode": "overlay",
              "size": 10,
              "solidity": 0.2
             }
            },
            "type": "histogram"
           }
          ],
          "histogram2d": [
           {
            "colorbar": {
             "outlinewidth": 0,
             "ticks": ""
            },
            "colorscale": [
             [
              0,
              "#0d0887"
             ],
             [
              0.1111111111111111,
              "#46039f"
             ],
             [
              0.2222222222222222,
              "#7201a8"
             ],
             [
              0.3333333333333333,
              "#9c179e"
             ],
             [
              0.4444444444444444,
              "#bd3786"
             ],
             [
              0.5555555555555556,
              "#d8576b"
             ],
             [
              0.6666666666666666,
              "#ed7953"
             ],
             [
              0.7777777777777778,
              "#fb9f3a"
             ],
             [
              0.8888888888888888,
              "#fdca26"
             ],
             [
              1,
              "#f0f921"
             ]
            ],
            "type": "histogram2d"
           }
          ],
          "histogram2dcontour": [
           {
            "colorbar": {
             "outlinewidth": 0,
             "ticks": ""
            },
            "colorscale": [
             [
              0,
              "#0d0887"
             ],
             [
              0.1111111111111111,
              "#46039f"
             ],
             [
              0.2222222222222222,
              "#7201a8"
             ],
             [
              0.3333333333333333,
              "#9c179e"
             ],
             [
              0.4444444444444444,
              "#bd3786"
             ],
             [
              0.5555555555555556,
              "#d8576b"
             ],
             [
              0.6666666666666666,
              "#ed7953"
             ],
             [
              0.7777777777777778,
              "#fb9f3a"
             ],
             [
              0.8888888888888888,
              "#fdca26"
             ],
             [
              1,
              "#f0f921"
             ]
            ],
            "type": "histogram2dcontour"
           }
          ],
          "mesh3d": [
           {
            "colorbar": {
             "outlinewidth": 0,
             "ticks": ""
            },
            "type": "mesh3d"
           }
          ],
          "parcoords": [
           {
            "line": {
             "colorbar": {
              "outlinewidth": 0,
              "ticks": ""
             }
            },
            "type": "parcoords"
           }
          ],
          "pie": [
           {
            "automargin": true,
            "type": "pie"
           }
          ],
          "scatter": [
           {
            "fillpattern": {
             "fillmode": "overlay",
             "size": 10,
             "solidity": 0.2
            },
            "type": "scatter"
           }
          ],
          "scatter3d": [
           {
            "line": {
             "colorbar": {
              "outlinewidth": 0,
              "ticks": ""
             }
            },
            "marker": {
             "colorbar": {
              "outlinewidth": 0,
              "ticks": ""
             }
            },
            "type": "scatter3d"
           }
          ],
          "scattercarpet": [
           {
            "marker": {
             "colorbar": {
              "outlinewidth": 0,
              "ticks": ""
             }
            },
            "type": "scattercarpet"
           }
          ],
          "scattergeo": [
           {
            "marker": {
             "colorbar": {
              "outlinewidth": 0,
              "ticks": ""
             }
            },
            "type": "scattergeo"
           }
          ],
          "scattergl": [
           {
            "marker": {
             "colorbar": {
              "outlinewidth": 0,
              "ticks": ""
             }
            },
            "type": "scattergl"
           }
          ],
          "scattermap": [
           {
            "marker": {
             "colorbar": {
              "outlinewidth": 0,
              "ticks": ""
             }
            },
            "type": "scattermap"
           }
          ],
          "scattermapbox": [
           {
            "marker": {
             "colorbar": {
              "outlinewidth": 0,
              "ticks": ""
             }
            },
            "type": "scattermapbox"
           }
          ],
          "scatterpolar": [
           {
            "marker": {
             "colorbar": {
              "outlinewidth": 0,
              "ticks": ""
             }
            },
            "type": "scatterpolar"
           }
          ],
          "scatterpolargl": [
           {
            "marker": {
             "colorbar": {
              "outlinewidth": 0,
              "ticks": ""
             }
            },
            "type": "scatterpolargl"
           }
          ],
          "scatterternary": [
           {
            "marker": {
             "colorbar": {
              "outlinewidth": 0,
              "ticks": ""
             }
            },
            "type": "scatterternary"
           }
          ],
          "surface": [
           {
            "colorbar": {
             "outlinewidth": 0,
             "ticks": ""
            },
            "colorscale": [
             [
              0,
              "#0d0887"
             ],
             [
              0.1111111111111111,
              "#46039f"
             ],
             [
              0.2222222222222222,
              "#7201a8"
             ],
             [
              0.3333333333333333,
              "#9c179e"
             ],
             [
              0.4444444444444444,
              "#bd3786"
             ],
             [
              0.5555555555555556,
              "#d8576b"
             ],
             [
              0.6666666666666666,
              "#ed7953"
             ],
             [
              0.7777777777777778,
              "#fb9f3a"
             ],
             [
              0.8888888888888888,
              "#fdca26"
             ],
             [
              1,
              "#f0f921"
             ]
            ],
            "type": "surface"
           }
          ],
          "table": [
           {
            "cells": {
             "fill": {
              "color": "#EBF0F8"
             },
             "line": {
              "color": "white"
             }
            },
            "header": {
             "fill": {
              "color": "#C8D4E3"
             },
             "line": {
              "color": "white"
             }
            },
            "type": "table"
           }
          ]
         },
         "layout": {
          "annotationdefaults": {
           "arrowcolor": "#2a3f5f",
           "arrowhead": 0,
           "arrowwidth": 1
          },
          "autotypenumbers": "strict",
          "coloraxis": {
           "colorbar": {
            "outlinewidth": 0,
            "ticks": ""
           }
          },
          "colorscale": {
           "diverging": [
            [
             0,
             "#8e0152"
            ],
            [
             0.1,
             "#c51b7d"
            ],
            [
             0.2,
             "#de77ae"
            ],
            [
             0.3,
             "#f1b6da"
            ],
            [
             0.4,
             "#fde0ef"
            ],
            [
             0.5,
             "#f7f7f7"
            ],
            [
             0.6,
             "#e6f5d0"
            ],
            [
             0.7,
             "#b8e186"
            ],
            [
             0.8,
             "#7fbc41"
            ],
            [
             0.9,
             "#4d9221"
            ],
            [
             1,
             "#276419"
            ]
           ],
           "sequential": [
            [
             0,
             "#0d0887"
            ],
            [
             0.1111111111111111,
             "#46039f"
            ],
            [
             0.2222222222222222,
             "#7201a8"
            ],
            [
             0.3333333333333333,
             "#9c179e"
            ],
            [
             0.4444444444444444,
             "#bd3786"
            ],
            [
             0.5555555555555556,
             "#d8576b"
            ],
            [
             0.6666666666666666,
             "#ed7953"
            ],
            [
             0.7777777777777778,
             "#fb9f3a"
            ],
            [
             0.8888888888888888,
             "#fdca26"
            ],
            [
             1,
             "#f0f921"
            ]
           ],
           "sequentialminus": [
            [
             0,
             "#0d0887"
            ],
            [
             0.1111111111111111,
             "#46039f"
            ],
            [
             0.2222222222222222,
             "#7201a8"
            ],
            [
             0.3333333333333333,
             "#9c179e"
            ],
            [
             0.4444444444444444,
             "#bd3786"
            ],
            [
             0.5555555555555556,
             "#d8576b"
            ],
            [
             0.6666666666666666,
             "#ed7953"
            ],
            [
             0.7777777777777778,
             "#fb9f3a"
            ],
            [
             0.8888888888888888,
             "#fdca26"
            ],
            [
             1,
             "#f0f921"
            ]
           ]
          },
          "colorway": [
           "#636efa",
           "#EF553B",
           "#00cc96",
           "#ab63fa",
           "#FFA15A",
           "#19d3f3",
           "#FF6692",
           "#B6E880",
           "#FF97FF",
           "#FECB52"
          ],
          "font": {
           "color": "#2a3f5f"
          },
          "geo": {
           "bgcolor": "white",
           "lakecolor": "white",
           "landcolor": "#E5ECF6",
           "showlakes": true,
           "showland": true,
           "subunitcolor": "white"
          },
          "hoverlabel": {
           "align": "left"
          },
          "hovermode": "closest",
          "mapbox": {
           "style": "light"
          },
          "paper_bgcolor": "white",
          "plot_bgcolor": "#E5ECF6",
          "polar": {
           "angularaxis": {
            "gridcolor": "white",
            "linecolor": "white",
            "ticks": ""
           },
           "bgcolor": "#E5ECF6",
           "radialaxis": {
            "gridcolor": "white",
            "linecolor": "white",
            "ticks": ""
           }
          },
          "scene": {
           "xaxis": {
            "backgroundcolor": "#E5ECF6",
            "gridcolor": "white",
            "gridwidth": 2,
            "linecolor": "white",
            "showbackground": true,
            "ticks": "",
            "zerolinecolor": "white"
           },
           "yaxis": {
            "backgroundcolor": "#E5ECF6",
            "gridcolor": "white",
            "gridwidth": 2,
            "linecolor": "white",
            "showbackground": true,
            "ticks": "",
            "zerolinecolor": "white"
           },
           "zaxis": {
            "backgroundcolor": "#E5ECF6",
            "gridcolor": "white",
            "gridwidth": 2,
            "linecolor": "white",
            "showbackground": true,
            "ticks": "",
            "zerolinecolor": "white"
           }
          },
          "shapedefaults": {
           "line": {
            "color": "#2a3f5f"
           }
          },
          "ternary": {
           "aaxis": {
            "gridcolor": "white",
            "linecolor": "white",
            "ticks": ""
           },
           "baxis": {
            "gridcolor": "white",
            "linecolor": "white",
            "ticks": ""
           },
           "bgcolor": "#E5ECF6",
           "caxis": {
            "gridcolor": "white",
            "linecolor": "white",
            "ticks": ""
           }
          },
          "title": {
           "x": 0.05
          },
          "xaxis": {
           "automargin": true,
           "gridcolor": "white",
           "linecolor": "white",
           "ticks": "",
           "title": {
            "standoff": 15
           },
           "zerolinecolor": "white",
           "zerolinewidth": 2
          },
          "yaxis": {
           "automargin": true,
           "gridcolor": "white",
           "linecolor": "white",
           "ticks": "",
           "title": {
            "standoff": 15
           },
           "zerolinecolor": "white",
           "zerolinewidth": 2
          }
         }
        },
        "title": {
         "text": "Bechdel Pass Rate by Genre (well-represented genres)"
        }
       }
      },
      "image/png": "[encoded data removed]"
     },
     "metadata": {},
     "output_type": "display_data"
    },
    {
     "name": "stdout",
     "output_type": "stream",
     "text": [
      "Wrote: wp_snippets/05_bar_polar.html\n"
     ]
    }
   ],
   "source": [
    "genre_counts = _g.groupby(\"_list\").size().reset_index(name=\"n\").rename(columns={\"_list\":\"genre\"})\n",
    "\n",
    "plot_df = (genre_trend.merge(genre_counts, on=\"genre\", how=\"left\")\n",
    "                     .query(\"n >= 30\")                # adjust threshold if needed\n",
    "                     .sort_values(\"pass_pct\", ascending=False)\n",
    "                     .head(12))\n",
    "\n",
    "fig = px.bar_polar(\n",
    "    plot_df,\n",
    "    r=\"pass_pct\",\n",
    "    theta=\"genre\",\n",
    "    color=\"pass_pct\",\n",
    "    color_continuous_scale=\"Bluered\",\n",
    "    title=\"Bechdel Pass Rate by Genre (well-represented genres)\"\n",
    ")\n",
    "fig.update_layout(height=560, margin=dict(l=40,r=40,t=80,b=40))\n",
    "fig.show()\n",
    "write_wp_snippet_plain(fig, \"wp_snippets/05_bar_polar.html\", \"05-bar-polar\")"
   ]
  },
  {
   "cell_type": "code",
   "execution_count": null,
   "id": "4da4f3bb-5187-4b27-b911-94bccaac4e4d",
   "metadata": {},
   "outputs": [
    {
     "name": "stdout",
     "output_type": "stream",
     "text": [
      "Wrote: wp_snippets/06_corr_heatmap.html\n"
     ]
    }
   ],
   "source": [
    "# === Chart 7: Correlation heatmap ===\n",
    "fig = go.Figure(go.Heatmap(\n",
    "    z=corr.values.tolist(), x=corr.columns.tolist(), y=corr.index.tolist(),\n",
    "    zmin=-1, zmax=1, zmid=0,\n",
    "    colorscale=\"RdBu\", reversescale=True,\n",
    "    hovertemplate=\"x: %{x}<br>y: %{y}<br>r: %{z:.2f}<extra></extra>\"\n",
    "))\n",
    "ann = []\n",
    "for i, y in enumerate(corr.index):\n",
    "    for j, x in enumerate(corr.columns):\n",
    "        val = corr.iloc[i,j]\n",
    "        ann.append(dict(x=x, y=y, text=f\"{val:.2f}\", showarrow=False,\n",
    "                        font=dict(color=(\"white\" if abs(val) > 0.45 else \"black\"), size=12)))\n",
    "fig.update_layout(\n",
    "    title=\"Correlation Heatmap: Representation, Money and Recognition\",\n",
    "    xaxis=dict(side=\"top\", tickangle=35, automargin=True),\n",
    "    yaxis=dict(autorange=\"reversed\", automargin=True),\n",
    "    annotations=ann, height=520, margin=dict(l=80,r=40,t=80,b=80)\n",
    ")\n",
    "write_wp_snippet_plain(fig, \"wp_snippets/06_corr_heatmap.html\", \"06-corr-heatmap\")\n"
   ]
  },
  {
   "cell_type": "code",
   "execution_count": null,
   "id": "bf3dbe79-2e0c-4e4f-9105-eb554d7e6f4a",
   "metadata": {},
   "outputs": [],
   "source": []
  }
 ],
 "metadata": {
  "kernelspec": {
   "display_name": "Python 3 (ipykernel)",
   "language": "python",
   "name": "python3"
  },
  "language_info": {
   "codemirror_mode": {
    "name": "ipython",
    "version": 3
   },
   "file_extension": ".py",
   "mimetype": "text/x-python",
   "name": "python",
   "nbconvert_exporter": "python",
   "pygments_lexer": "ipython3",
   "version": "3.13.3"
  }
 },
 "nbformat": 4,
 "nbformat_minor": 5
}
